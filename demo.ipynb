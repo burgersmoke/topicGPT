{
 "cells": [
  {
   "cell_type": "markdown",
   "metadata": {},
   "source": [
    "# TopicGPT_Python package\n",
    "\n",
    "`topicgpt_python` consists of five modules in total: \n",
    "- `generate_topic_lvl1` generates high-level and generalizable topics. \n",
    "- `generate_topic_lvl2` generates low-level and specific topics to each high-level topic.\n",
    "- `refine_topics` refines the generated topics by merging similar topics and removing irrelevant topics.\n",
    "- `assign_topics` assigns the generated topics to the input text, along with a quote that supports the assignment.\n",
    "- `correct_topics` corrects the generated topics by reprompting the model so that the topic assignment is grounded in the topic list. \n",
    "\n",
    "![topicgpt_python](assets/img/pipeline.png)"
   ]
  },
  {
   "cell_type": "markdown",
   "metadata": {},
   "source": [
    "## Setup\n",
    "1. Make a new Python 3.9+ environment using virtualenv or conda. \n",
    "2. Install the required packages: `pip install --upgrade topicgpt_python`.\n",
    "- Our package supports OpenAI API, Google Cloud Vertex AI API, Gemini API, Azure API, and vLLM inference. vLLM requires GPUs to run. \n",
    "- Please refer to https://openai.com/pricing/ for OpenAI API pricing or to https://cloud.google.com/vertex-ai/pricing for Vertex API pricing. "
   ]
  },
  {
   "cell_type": "code",
   "execution_count": 1,
   "metadata": {
    "vscode": {
     "languageId": "shellscript"
    }
   },
   "outputs": [],
   "source": [
    "# Run in shell\n",
    "#!pip install --upgrade topicgpt_python\n",
    "\n",
    "# Needed only for the OpenAI API deployment\n",
    "#export OPENAI_API_KEY={your_openai_api_key}\n",
    "\n",
    "# Needed only for the Vertex AI deployment\n",
    "#export VERTEX_PROJECT={your_vertex_project}   # e.g. my-project\n",
    "#export VERTEX_LOCATION={your_vertex_location} # e.g. us-central1\n",
    "\n",
    "# Needed only for Gemini deployment\n",
    "#export GEMINI_API_KEY={your_gemini_api_key}\n",
    "\n",
    "# Needed only for the Azure API deployment\n",
    "#export AZURE_OPENAI_API_KEY={your_azure_api_key}\n",
    "#export AZURE_OPENAI_ENDPOINT={your_azure_endpoint}"
   ]
  },
  {
   "cell_type": "markdown",
   "metadata": {},
   "source": [
    "## Usage\n",
    "1. First, define the necessary file paths for I/O operations in `config.yml`. \n",
    "2. Then, import the necessary modules and functions from `topicgpt_python`.\n",
    "3. Store your data in `data/input` and modify the `data_sample` path in `config.yml`. \n",
    "\n",
    "- Prepare your `.jsonl` data file in the following format:\n",
    "    ```\n",
    "    {\n",
    "        \"id\": \"IDs (optional)\",\n",
    "        \"text\": \"Documents\",\n",
    "        \"label\": \"Ground-truth labels (optional)\"\n",
    "    }\n",
    "    ```"
   ]
  },
  {
   "cell_type": "code",
   "execution_count": 2,
   "metadata": {},
   "outputs": [
    {
     "name": "stdout",
     "output_type": "stream",
     "text": [
      "INFO 02-13 01:23:20 __init__.py:192] Automatically detected platform cuda.\n"
     ]
    }
   ],
   "source": [
    "from topicgpt_python import *\n",
    "import yaml\n",
    "\n",
    "with open(\"config.yml\", \"r\") as f:\n",
    "    config = yaml.safe_load(f)"
   ]
  },
  {
   "cell_type": "markdown",
   "metadata": {},
   "source": [
    "### Topic Generation \n",
    "Generate high-level topics using `generate_topic_lvl1`. \n",
    "- Define the api type and model. \n",
    "- Define your seed topics in `prompt/seed_1.md`.\n",
    "- (Optional) Modify few-shot examples in `prompt/generation_1.txt`.\n",
    "- Expect the generated topics in `data/output/{data_name}/generation_1.md` and `data/output/{data_name}/generation_1.jsonl`.\n",
    "- Right now, early stopping is set to 100, meaning that if no new topic has been generated in the last 100 iterations, the generation process will stop."
   ]
  },
  {
   "cell_type": "code",
   "execution_count": 3,
   "metadata": {},
   "outputs": [
    {
     "name": "stderr",
     "output_type": "stream",
     "text": [
      "C:\\Users\\slick\\.conda\\envs\\topic_gpt_gpu_updated\\Lib\\site-packages\\auto_gptq\\nn_modules\\triton_utils\\kernels.py:410: FutureWarning: `torch.cuda.amp.custom_fwd(args...)` is deprecated. Please use `torch.amp.custom_fwd(args..., device_type='cuda')` instead.\n",
      "  @custom_fwd\n",
      "C:\\Users\\slick\\.conda\\envs\\topic_gpt_gpu_updated\\Lib\\site-packages\\auto_gptq\\nn_modules\\triton_utils\\kernels.py:418: FutureWarning: `torch.cuda.amp.custom_bwd(args...)` is deprecated. Please use `torch.amp.custom_bwd(args..., device_type='cuda')` instead.\n",
      "  @custom_bwd\n",
      "C:\\Users\\slick\\.conda\\envs\\topic_gpt_gpu_updated\\Lib\\site-packages\\auto_gptq\\nn_modules\\triton_utils\\kernels.py:461: FutureWarning: `torch.cuda.amp.custom_fwd(args...)` is deprecated. Please use `torch.amp.custom_fwd(args..., device_type='cuda')` instead.\n",
      "  @custom_fwd(cast_inputs=torch.float16)\n",
      "CUDA extension not installed.\n",
      "CUDA extension not installed.\n",
      "`loss_type=None` was set in the config but it is unrecognised.Using the default loss: `ForCausalLMLoss`.\n"
     ]
    },
    {
     "name": "stdout",
     "output_type": "stream",
     "text": [
      "Preparing to import and load with custom_llm\n",
      "Model loaded with custom_llm\n",
      "Tokenizer loaded with custom_llm\n",
      "-------------------\n",
      "Initializing topic generation...\n",
      "Model: C:/git/Mistral-7B-Instruct-v0.3-quantized.w4a16\n",
      "Data file: data/input/sample.jsonl\n",
      "Prompt file: prompt/generation_1.txt\n",
      "Seed file: prompt/seed_1.md\n",
      "Output file: data/output/sample/generation_1.jsonl\n",
      "Topic file: data/output/sample/generation_1.md\n",
      "-------------------\n"
     ]
    },
    {
     "name": "stderr",
     "output_type": "stream",
     "text": [
      "C:\\Users\\slick\\.conda\\envs\\topic_gpt_gpu_updated\\Lib\\site-packages\\transformers\\generation\\configuration_utils.py:628: UserWarning: `do_sample` is set to `False`. However, `temperature` is set to `0.0` -- this flag is only used in sample-based generation modes. You should set `do_sample=True` or unset `temperature`.\n",
      "  warnings.warn(\n",
      "The attention mask and the pad token id were not set. As a consequence, you may observe unexpected behavior. Please pass your input's `attention_mask` to obtain reliable results.\n",
      "Setting `pad_token_id` to `eos_token_id`:2 for open-end generation.\n",
      "The attention mask is not set and cannot be inferred from input because pad token is same as eos token. As a consequence, you may observe unexpected behavior. Please pass your input's `attention_mask` to obtain reliable results.\n"
     ]
    },
    {
     "name": "stdout",
     "output_type": "stream",
     "text": [
      "iterative_prompt system_message: You are a helpful assistant.\n",
      "iterative_prompt prompt: You will receive a document and a set of top-level topics from a topic hierarchy. Your task is to identify generalizable topics within the document that can act as top-level topics in the hierarchy. If any relevant topics are missing from the provided set, please add them. Otherwise, output the existing top-level topics as identified in the document.\n",
      "\n",
      "[Top-level topics]\n",
      "[1] Trade\n",
      "\n",
      "[Examples]\n",
      "Example 1: Adding \"[1] Agriculture\"\n",
      "Document: \n",
      "Saving Essential American Sailors Act or SEAS Act - Amends the Moving Ahead for Progress in the 21st Century Act (MAP-21) to repeal the Act's repeal of the agricultural export requirements that: (1) 25% of the gross tonnage of certain agricultural commodities or their products exported each fiscal year be transported on U.S. commercial vessels, and (2) the Secretary of Transportation (DOT) finance any increased ocean freight charges incurred in the transportation of such items. Revives and reinstates those repealed requirements to read as if they were never repealed.\n",
      "\n",
      "Your response: \n",
      "[1] Agriculture: Mentions policies relating to agricultural practices and products.\n",
      "\n",
      "Example 2: Duplicate \"[1] Trade\", returning the existing topic\n",
      "Document: \n",
      "Amends the Harmonized Tariff Schedule of the United States to suspend temporarily the duty on mixtures containing Fluopyram.\n",
      "\n",
      "Your response: \n",
      "[1] Trade: Mentions the exchange of capital, goods, and services.\n",
      "\n",
      "[Instructions]\n",
      "Step 1: Determine topics mentioned in the document. \n",
      "- The topic labels must be as GENERALIZABLE as possible. They must not be document-specific.\n",
      "- The topics must reflect a SINGLE topic instead of a combination of topics.\n",
      "- The new topics must have a level number, a short general label, and a topic description. \n",
      "- The topics must be broad enough to accommodate future subtopics. \n",
      "Step 2: Perform ONE of the following operations: \n",
      "1. If there are already duplicates or relevant topics in the hierarchy, output those topics and stop here. \n",
      "2. If the document contains no topic, return \"None\". \n",
      "3. Otherwise, add your topic as a top-level topic. Stop here and output the added topic(s). DO NOT add any additional levels.\n",
      "\n",
      "\n",
      "[Document]\n",
      "National Forest Roadless Area Conservation Act - Identifies roadless areas within the National Forest System set forth in specified maps as National Forest Inventoried Roadless Areas, and directs the Secretary of Agriculture to manage such Areas to maintain their roadless character. Authorizes the Forest Service to modify such maps for the sole purpose of improving their accuracy or inclusiveness. Requires any substantial modification of those maps to be made through the national forest management planning process and documented in an environmental impact statement.\n",
      "\n",
      "Please ONLY return the relevant or modified topics at the top level in the hierarchy. Your response should be in the following format:\n",
      "[Topic Level] Topic Label: Topic Description\n",
      "\n",
      "Your response:\n",
      "type(final_prompt): <class 'torch.Tensor'>\n"
     ]
    },
    {
     "name": "stderr",
     "output_type": "stream",
     "text": [
      "The attention mask and the pad token id were not set. As a consequence, you may observe unexpected behavior. Please pass your input's `attention_mask` to obtain reliable results.\n",
      "Setting `pad_token_id` to `eos_token_id`:2 for open-end generation.\n"
     ]
    },
    {
     "name": "stdout",
     "output_type": "stream",
     "text": [
      "post_processed_output_text: [1]  Forest Conservation: Regulates the management and protection of forest areas to maintain their natural state.\n",
      "\n",
      "[2]  National Forest Roadless Area Conservation Act: A legislative act that identifies and protects roadless areas within the National Forest System. It requires the Secretary of Agriculture to manage these areas to maintain their roadless character and allows for modifications to improve accuracy or inclusiveness. Any substantial modification must go through the national forest management planning process and be documented in an environmental impact statement.</s>\n",
      "Invalid topic format: . Skipping...\n",
      "Lower level topics are not allowed: [2]  National Forest Roadless Area Conservation Act: A legislative act that identifies and protects roadless areas within the National Forest System. It requires the Secretary of Agriculture to manage these areas to maintain their roadless character and allows for modifications to improve accuracy or inclusiveness. Any substantial modification must go through the national forest management planning process and be documented in an environmental impact statement.</s>. Skipping...\n",
      "Topics: [1]  Forest Conservation: Regulates the management and protection of forest areas to maintain their natural state.\n",
      "\n",
      "[2]  National Forest Roadless Area Conservation Act: A legislative act that identifies and protects roadless areas within the National Forest System. It requires the Secretary of Agriculture to manage these areas to maintain their roadless character and allows for modifications to improve accuracy or inclusiveness. Any substantial modification must go through the national forest management planning process and be documented in an environmental impact statement.</s>\n",
      "--------------------\n",
      "iterative_prompt system_message: You are a helpful assistant.\n",
      "iterative_prompt prompt: You will receive a document and a set of top-level topics from a topic hierarchy. Your task is to identify generalizable topics within the document that can act as top-level topics in the hierarchy. If any relevant topics are missing from the provided set, please add them. Otherwise, output the existing top-level topics as identified in the document.\n",
      "\n",
      "[Top-level topics]\n",
      "[1] Trade\n",
      "[1] Forest Conservation\n",
      "\n",
      "[Examples]\n",
      "Example 1: Adding \"[1] Agriculture\"\n",
      "Document: \n",
      "Saving Essential American Sailors Act or SEAS Act - Amends the Moving Ahead for Progress in the 21st Century Act (MAP-21) to repeal the Act's repeal of the agricultural export requirements that: (1) 25% of the gross tonnage of certain agricultural commodities or their products exported each fiscal year be transported on U.S. commercial vessels, and (2) the Secretary of Transportation (DOT) finance any increased ocean freight charges incurred in the transportation of such items. Revives and reinstates those repealed requirements to read as if they were never repealed.\n",
      "\n",
      "Your response: \n",
      "[1] Agriculture: Mentions policies relating to agricultural practices and products.\n",
      "\n",
      "Example 2: Duplicate \"[1] Trade\", returning the existing topic\n",
      "Document: \n",
      "Amends the Harmonized Tariff Schedule of the United States to suspend temporarily the duty on mixtures containing Fluopyram.\n",
      "\n",
      "Your response: \n",
      "[1] Trade: Mentions the exchange of capital, goods, and services.\n",
      "\n",
      "[Instructions]\n",
      "Step 1: Determine topics mentioned in the document. \n",
      "- The topic labels must be as GENERALIZABLE as possible. They must not be document-specific.\n",
      "- The topics must reflect a SINGLE topic instead of a combination of topics.\n",
      "- The new topics must have a level number, a short general label, and a topic description. \n",
      "- The topics must be broad enough to accommodate future subtopics. \n",
      "Step 2: Perform ONE of the following operations: \n",
      "1. If there are already duplicates or relevant topics in the hierarchy, output those topics and stop here. \n",
      "2. If the document contains no topic, return \"None\". \n",
      "3. Otherwise, add your topic as a top-level topic. Stop here and output the added topic(s). DO NOT add any additional levels.\n",
      "\n",
      "\n",
      "[Document]\n",
      "Spokane Tribe of Indians of the Spokane Reservation Grand Coulee Dam Equitable Compensation Settlement Act - (Sec. 3) States that the purpose of this Act is to compensate the Spokane Tribe of Indians of the Spokane Reservation, Washington State for the use of its land for hydropower generation by the Grand Coulee Dam. (Sec. 5) Establishes in the Treasury the Spokane Tribe of Indians Settlement Fund. Authorizes the Spokane Business Council, upon a Fund deposit, to notify the Secretary requesting that the Secretary pay all or a portion of the Fund amounts to the Council. Obligates Fund amounts for: (1) a Cultural Resource Repository and Interpretive Center concerning the culture and history of the Tribe; (2) tribal member benefits; and (3) resource development, credit, scholarship, or educational programs. (Sec. 6) Directs the Administrator of the Bonneville Power Administration (or the head of a successor entity that markets power produced at the Grand Coulee Dam) to pay to the Tribe: (1) on March 1, 2010, 29% of the computed annual payment for FY2009; and (2) on March 1 of each subsequent year, 29% of the computed annual payment for the preceding fiscal year. (Sec. 7) Allows payments made to the Council or Tribe to be used or invested by the Council in the same manner and for the same purposes as other Tribe governmental funds. Provides that: (1) neither the Secretary of the Interior nor the Administrator shall have trust responsibility for the investment, administration, or expenditure of any funds after the date on which the funds are paid to the Council or Tribe; (2) the payments of all funds to the Council and Tribe and the interest and income generated by the funds, shall be treated in the same manner as specified payments under the Saginaw Chippewa Indian Tribe of Michigan Distribution of Judgment Funds Act; and (3) after the date of fund transfer to the Council or Tribe the funds shall be Tribe governmental funds and subject to annual tribal government audit. (Sec. 8) Sets forth repayment credit provisions. (Sec. 9) Directs the Secretary to transfer administrative jurisdiction from the Bureau of Reclamation to the Bureau of Indian Affairs (BIA) over certain land located within the exterior boundaries of the Spokane Indian Reservation. Provides, with regard to land transferred under this section that: (1) such land shall be held in trust for the Tribe and shall remain part of the Spokane Indian Reservation; (2) the federal trust responsibility shall be the same as for other tribal land held in trust within the Spokane Indian Reservation; (3) the United States reserves a perpetual right over such land to carry out the Columbia Basin Project; and (4) land that was included in the Lake Roosevelt National Recreation Area shall remain part of the Recreation Area. States that nothing in this section establishes or affects the boundary between the Spokane Indian Reservation and the Colville Reservation along the Columbia River and Lake Roosevelt or the agreements and rights provided for in the Act of June 29, 1940. (Sec. 10) Provides that payments by the Secretary and the Administrator and restoration of ownership of land in trust constitute full satisfaction of the claim of the Tribe to a fair share of the annual hydropower revenues generated by the Grand Coulee Dam project for the past and continued use of land of the Tribe for the production of hydropower at Grand Coulee Dam. (Sec. 11) Authorizes appropriations to carry out this Act. (Sec. 12) States that nothing in this Act establishes any precedent or is binding on the Southwestern Power Administration, Western Area Power Administration, or Southeastern Power Administration.\n",
      "\n",
      "Please ONLY return the relevant or modified topics at the top level in the hierarchy. Your response should be in the following format:\n",
      "[Topic Level] Topic Label: Topic Description\n",
      "\n",
      "Your response:\n",
      "type(final_prompt): <class 'torch.Tensor'>\n"
     ]
    },
    {
     "name": "stderr",
     "output_type": "stream",
     "text": [
      "The attention mask and the pad token id were not set. As a consequence, you may observe unexpected behavior. Please pass your input's `attention_mask` to obtain reliable results.\n",
      "Setting `pad_token_id` to `eos_token_id`:2 for open-end generation.\n"
     ]
    },
    {
     "name": "stdout",
     "output_type": "stream",
     "text": [
      "post_processed_output_text: 1. Topic Level: 1\n",
      "Topic Label: Government Policy\n",
      "Topic Description: Policies and acts established by government entities to regulate various aspects of society, including but not limited to, land management, resource distribution, and financial compensation.\n",
      "\n",
      "2. Topic Level: 1\n",
      "Topic Label: Hydropower\n",
      "Topic Description: The production of electricity through the movement of water, typically through dams or water turbines.\n",
      "\n",
      "3. Topic Level: 1\n",
      "Topic Label: Native American Rights\n",
      "Topic Description: The rights and claims of Native American tribes, including land rights, resource rights, and financial compensation for historical injustices.\n",
      "\n",
      "4. Topic Level: 1\n",
      "Topic Label: Land Management\n",
      "Topic Description: The management, conservation, and development of land resources, including but not limited to, public lands, tribal lands, and national parks.\n",
      "\n",
      "5. Topic Level: 1\n",
      "Topic Label: Energy Production\n",
      "Topic Description: The generation and distribution of energy, including but not limited to, renewable and non-renewable energy sources.\n",
      "\n",
      "6. Topic Level: 1\n",
      "Topic Label: Trust Responsibility\n",
      "Topic Description: The legal and ethical obligations of government entities to manage and protect the interests of Native American tribes, including the management of tribal lands and the distribution of funds.\n",
      "\n",
      "7. Topic Level: 1\n",
      "Topic Label: Resource Development\n",
      "Topic Description: The exploration, extraction, and utilization of natural resources, including but not limited to, minerals, water, and energy sources.\n",
      "\n",
      "8. Topic Level: 1\n",
      "Topic Label: Tribal Governance\n",
      "Topic Description: The structure, functions, and operations of Native American tribes, including but not limited to, the management of tribal funds, the establishment of tribal laws, and the election of tribal leaders.\n",
      "\n",
      "9. Topic Level: 1\n",
      "Topic Label: Recreation and Conservation\n",
      "Topic Description: The preservation, management, and enjoyment of natural and cultural resources for recreational and educational purposes, including but not limited to, national parks, wildlife refuges, and cultural heritage sites.\n",
      "\n",
      "10. Topic Level: 1\n",
      "Topic Label: Federal-Tribal Relations\n",
      "Topic Description: The relationship between the federal government and Native American tribes, including but not limited to, the negotiation of treaties, the administration of trust responsibilities, and the resolution of land disputes.</s>\n",
      "Invalid topic format: 1. Topic Level: 1. Skipping...\n",
      "Invalid topic format: Topic Label: Government Policy. Skipping...\n",
      "Invalid topic format: Topic Description: Policies and acts established by government entities to regulate various aspects of society, including but not limited to, land management, resource distribution, and financial compensation.. Skipping...\n",
      "Invalid topic format: . Skipping...\n",
      "Invalid topic format: 2. Topic Level: 1. Skipping...\n",
      "Invalid topic format: Topic Label: Hydropower. Skipping...\n",
      "Invalid topic format: Topic Description: The production of electricity through the movement of water, typically through dams or water turbines.. Skipping...\n",
      "Invalid topic format: . Skipping...\n",
      "Invalid topic format: 3. Topic Level: 1. Skipping...\n",
      "Invalid topic format: Topic Label: Native American Rights. Skipping...\n",
      "Invalid topic format: Topic Description: The rights and claims of Native American tribes, including land rights, resource rights, and financial compensation for historical injustices.. Skipping...\n",
      "Invalid topic format: . Skipping...\n",
      "Invalid topic format: 4. Topic Level: 1. Skipping...\n",
      "Invalid topic format: Topic Label: Land Management. Skipping...\n",
      "Invalid topic format: Topic Description: The management, conservation, and development of land resources, including but not limited to, public lands, tribal lands, and national parks.. Skipping...\n",
      "Invalid topic format: . Skipping...\n",
      "Invalid topic format: 5. Topic Level: 1. Skipping...\n",
      "Invalid topic format: Topic Label: Energy Production. Skipping...\n",
      "Invalid topic format: Topic Description: The generation and distribution of energy, including but not limited to, renewable and non-renewable energy sources.. Skipping...\n",
      "Invalid topic format: . Skipping...\n",
      "Invalid topic format: 6. Topic Level: 1. Skipping...\n",
      "Invalid topic format: Topic Label: Trust Responsibility. Skipping...\n",
      "Invalid topic format: Topic Description: The legal and ethical obligations of government entities to manage and protect the interests of Native American tribes, including the management of tribal lands and the distribution of funds.. Skipping...\n",
      "Invalid topic format: . Skipping...\n",
      "Invalid topic format: 7. Topic Level: 1. Skipping...\n",
      "Invalid topic format: Topic Label: Resource Development. Skipping...\n",
      "Invalid topic format: Topic Description: The exploration, extraction, and utilization of natural resources, including but not limited to, minerals, water, and energy sources.. Skipping...\n",
      "Invalid topic format: . Skipping...\n",
      "Invalid topic format: 8. Topic Level: 1. Skipping...\n",
      "Invalid topic format: Topic Label: Tribal Governance. Skipping...\n",
      "Invalid topic format: Topic Description: The structure, functions, and operations of Native American tribes, including but not limited to, the management of tribal funds, the establishment of tribal laws, and the election of tribal leaders.. Skipping...\n",
      "Invalid topic format: . Skipping...\n",
      "Invalid topic format: 9. Topic Level: 1. Skipping...\n",
      "Invalid topic format: Topic Label: Recreation and Conservation. Skipping...\n",
      "Invalid topic format: Topic Description: The preservation, management, and enjoyment of natural and cultural resources for recreational and educational purposes, including but not limited to, national parks, wildlife refuges, and cultural heritage sites.. Skipping...\n",
      "Invalid topic format: . Skipping...\n",
      "Invalid topic format: 10. Topic Level: 1. Skipping...\n",
      "Invalid topic format: Topic Label: Federal-Tribal Relations. Skipping...\n",
      "Invalid topic format: Topic Description: The relationship between the federal government and Native American tribes, including but not limited to, the negotiation of treaties, the administration of trust responsibilities, and the resolution of land disputes.</s>. Skipping...\n",
      "Topics: 1. Topic Level: 1\n",
      "Topic Label: Government Policy\n",
      "Topic Description: Policies and acts established by government entities to regulate various aspects of society, including but not limited to, land management, resource distribution, and financial compensation.\n",
      "\n",
      "2. Topic Level: 1\n",
      "Topic Label: Hydropower\n",
      "Topic Description: The production of electricity through the movement of water, typically through dams or water turbines.\n",
      "\n",
      "3. Topic Level: 1\n",
      "Topic Label: Native American Rights\n",
      "Topic Description: The rights and claims of Native American tribes, including land rights, resource rights, and financial compensation for historical injustices.\n",
      "\n",
      "4. Topic Level: 1\n",
      "Topic Label: Land Management\n",
      "Topic Description: The management, conservation, and development of land resources, including but not limited to, public lands, tribal lands, and national parks.\n",
      "\n",
      "5. Topic Level: 1\n",
      "Topic Label: Energy Production\n",
      "Topic Description: The generation and distribution of energy, including but not limited to, renewable and non-renewable energy sources.\n",
      "\n",
      "6. Topic Level: 1\n",
      "Topic Label: Trust Responsibility\n",
      "Topic Description: The legal and ethical obligations of government entities to manage and protect the interests of Native American tribes, including the management of tribal lands and the distribution of funds.\n",
      "\n",
      "7. Topic Level: 1\n",
      "Topic Label: Resource Development\n",
      "Topic Description: The exploration, extraction, and utilization of natural resources, including but not limited to, minerals, water, and energy sources.\n",
      "\n",
      "8. Topic Level: 1\n",
      "Topic Label: Tribal Governance\n",
      "Topic Description: The structure, functions, and operations of Native American tribes, including but not limited to, the management of tribal funds, the establishment of tribal laws, and the election of tribal leaders.\n",
      "\n",
      "9. Topic Level: 1\n",
      "Topic Label: Recreation and Conservation\n",
      "Topic Description: The preservation, management, and enjoyment of natural and cultural resources for recreational and educational purposes, including but not limited to, national parks, wildlife refuges, and cultural heritage sites.\n",
      "\n",
      "10. Topic Level: 1\n",
      "Topic Label: Federal-Tribal Relations\n",
      "Topic Description: The relationship between the federal government and Native American tribes, including but not limited to, the negotiation of treaties, the administration of trust responsibilities, and the resolution of land disputes.</s>\n",
      "--------------------\n",
      "iterative_prompt system_message: You are a helpful assistant.\n",
      "iterative_prompt prompt: You will receive a document and a set of top-level topics from a topic hierarchy. Your task is to identify generalizable topics within the document that can act as top-level topics in the hierarchy. If any relevant topics are missing from the provided set, please add them. Otherwise, output the existing top-level topics as identified in the document.\n",
      "\n",
      "[Top-level topics]\n",
      "[1] Trade\n",
      "[1] Forest Conservation\n",
      "\n",
      "[Examples]\n",
      "Example 1: Adding \"[1] Agriculture\"\n",
      "Document: \n",
      "Saving Essential American Sailors Act or SEAS Act - Amends the Moving Ahead for Progress in the 21st Century Act (MAP-21) to repeal the Act's repeal of the agricultural export requirements that: (1) 25% of the gross tonnage of certain agricultural commodities or their products exported each fiscal year be transported on U.S. commercial vessels, and (2) the Secretary of Transportation (DOT) finance any increased ocean freight charges incurred in the transportation of such items. Revives and reinstates those repealed requirements to read as if they were never repealed.\n",
      "\n",
      "Your response: \n",
      "[1] Agriculture: Mentions policies relating to agricultural practices and products.\n",
      "\n",
      "Example 2: Duplicate \"[1] Trade\", returning the existing topic\n",
      "Document: \n",
      "Amends the Harmonized Tariff Schedule of the United States to suspend temporarily the duty on mixtures containing Fluopyram.\n",
      "\n",
      "Your response: \n",
      "[1] Trade: Mentions the exchange of capital, goods, and services.\n",
      "\n",
      "[Instructions]\n",
      "Step 1: Determine topics mentioned in the document. \n",
      "- The topic labels must be as GENERALIZABLE as possible. They must not be document-specific.\n",
      "- The topics must reflect a SINGLE topic instead of a combination of topics.\n",
      "- The new topics must have a level number, a short general label, and a topic description. \n",
      "- The topics must be broad enough to accommodate future subtopics. \n",
      "Step 2: Perform ONE of the following operations: \n",
      "1. If there are already duplicates or relevant topics in the hierarchy, output those topics and stop here. \n",
      "2. If the document contains no topic, return \"None\". \n",
      "3. Otherwise, add your topic as a top-level topic. Stop here and output the added topic(s). DO NOT add any additional levels.\n",
      "\n",
      "\n",
      "[Document]\n",
      "Rigs to Reefs Habitat Protection Act - Directs the Secretary of the Interior to assess each offshore oil and gas platform in the Gulf of Mexico that is no longer useful for operations, and has become critical for a marine fisheries habitat, to: (1) determine whether there are coral populations or other protected species in the platform's vicinity, and (2) identify any species in the vicinity that have recreational or commercial value.\n",
      "\n",
      "Prohibits the removal of any such platforms until the Secretary has completed each assessment.\n",
      "\n",
      "Requires suspension of the decommissioning of a platform if a substantial reef ecosystem is in the vicinity until the Secretary determines that decommissioning would not harm the ecosystem.\n",
      "\n",
      "Exempts from certain platform removal deadlines any lessees who: (1) commit to entering a particular platform in the artificial reef program under the National Fishing Enhancement Act of 1984, and (2) initiate discussions with applicable states regarding potential artificial reef sites.\n",
      "\n",
      "Allows a lessee to provide for reefing in place under the artificial reef program.\n",
      "\n",
      "Permits states with a state rig-to-reef program to enter agreements with any appropriate entities to assume liability in federal water for a structure covered by the state program.\n",
      "\n",
      "Establishes a Reef Maintenance Fund. Requires the owner of a rig enrolled in the artificial reef program to: (1) maintain a rig anode system; and (2) pay into the Fund 50% of the estimated platform removal costs for which the owner would have been responsible if it had not participated in the program.\n",
      "\n",
      "Please ONLY return the relevant or modified topics at the top level in the hierarchy. Your response should be in the following format:\n",
      "[Topic Level] Topic Label: Topic Description\n",
      "\n",
      "Your response:\n",
      "type(final_prompt): <class 'torch.Tensor'>\n"
     ]
    },
    {
     "name": "stderr",
     "output_type": "stream",
     "text": [
      "The attention mask and the pad token id were not set. As a consequence, you may observe unexpected behavior. Please pass your input's `attention_mask` to obtain reliable results.\n",
      "Setting `pad_token_id` to `eos_token_id`:2 for open-end generation.\n"
     ]
    },
    {
     "name": "stdout",
     "output_type": "stream",
     "text": [
      "post_processed_output_text: [1]  Oil and Gas Exploration: Discusses the exploration, extraction, and management of oil and gas resources.\n",
      "\n",
      "[2]  Marine Habitats: Focuses on the ecosystems and biodiversity found in marine environments.\n",
      "\n",
      "[2]  Fisheries Management: Deals with the management and conservation of fish populations and their habitats.\n",
      "\n",
      "[2]  Coral Reefs: Concentrates on the biology, ecology, and conservation of coral reefs.\n",
      "\n",
      "[2]  Protected Species: Addresses the protection and conservation of endangered or threatened species.\n",
      "\n",
      "[2]  Recreational Fishing: Discusses the practice of fishing for pleasure and recreation.\n",
      "\n",
      "[2]  Commercial Fishing: Focuses on the fishing industry and the economic aspects of fishing.\n",
      "\n",
      "[2]  Artificial Reefs: Deals with the creation and management of artificial reefs to enhance marine habitats.\n",
      "\n",
      "[2]  National Fishing Enhancement Act of 1984: Refers to the legislation that provides for the enhancement of fisheries resources.\n",
      "\n",
      "[2]  Gulf of Mexico: Focuses on the geography, geology, and marine life of the Gulf of Mexico.\n",
      "\n",
      "[2]  Reef Maintenance Fund: Discusses the fund established for the maintenance of artificial reefs.</s>\n",
      "Invalid topic format: . Skipping...\n",
      "Lower level topics are not allowed: [2]  Marine Habitats: Focuses on the ecosystems and biodiversity found in marine environments.. Skipping...\n",
      "Invalid topic format: . Skipping...\n",
      "Lower level topics are not allowed: [2]  Fisheries Management: Deals with the management and conservation of fish populations and their habitats.. Skipping...\n",
      "Invalid topic format: . Skipping...\n",
      "Lower level topics are not allowed: [2]  Coral Reefs: Concentrates on the biology, ecology, and conservation of coral reefs.. Skipping...\n",
      "Invalid topic format: . Skipping...\n",
      "Lower level topics are not allowed: [2]  Protected Species: Addresses the protection and conservation of endangered or threatened species.. Skipping...\n",
      "Invalid topic format: . Skipping...\n",
      "Lower level topics are not allowed: [2]  Recreational Fishing: Discusses the practice of fishing for pleasure and recreation.. Skipping...\n",
      "Invalid topic format: . Skipping...\n",
      "Lower level topics are not allowed: [2]  Commercial Fishing: Focuses on the fishing industry and the economic aspects of fishing.. Skipping...\n",
      "Invalid topic format: . Skipping...\n",
      "Lower level topics are not allowed: [2]  Artificial Reefs: Deals with the creation and management of artificial reefs to enhance marine habitats.. Skipping...\n",
      "Invalid topic format: . Skipping...\n",
      "Lower level topics are not allowed: [2]  National Fishing Enhancement Act of 1984: Refers to the legislation that provides for the enhancement of fisheries resources.. Skipping...\n",
      "Invalid topic format: . Skipping...\n",
      "Lower level topics are not allowed: [2]  Gulf of Mexico: Focuses on the geography, geology, and marine life of the Gulf of Mexico.. Skipping...\n",
      "Invalid topic format: . Skipping...\n",
      "Lower level topics are not allowed: [2]  Reef Maintenance Fund: Discusses the fund established for the maintenance of artificial reefs.</s>. Skipping...\n",
      "Topics: [1]  Oil and Gas Exploration: Discusses the exploration, extraction, and management of oil and gas resources.\n",
      "\n",
      "[2]  Marine Habitats: Focuses on the ecosystems and biodiversity found in marine environments.\n",
      "\n",
      "[2]  Fisheries Management: Deals with the management and conservation of fish populations and their habitats.\n",
      "\n",
      "[2]  Coral Reefs: Concentrates on the biology, ecology, and conservation of coral reefs.\n",
      "\n",
      "[2]  Protected Species: Addresses the protection and conservation of endangered or threatened species.\n",
      "\n",
      "[2]  Recreational Fishing: Discusses the practice of fishing for pleasure and recreation.\n",
      "\n",
      "[2]  Commercial Fishing: Focuses on the fishing industry and the economic aspects of fishing.\n",
      "\n",
      "[2]  Artificial Reefs: Deals with the creation and management of artificial reefs to enhance marine habitats.\n",
      "\n",
      "[2]  National Fishing Enhancement Act of 1984: Refers to the legislation that provides for the enhancement of fisheries resources.\n",
      "\n",
      "[2]  Gulf of Mexico: Focuses on the geography, geology, and marine life of the Gulf of Mexico.\n",
      "\n",
      "[2]  Reef Maintenance Fund: Discusses the fund established for the maintenance of artificial reefs.</s>\n",
      "--------------------\n",
      "iterative_prompt system_message: You are a helpful assistant.\n",
      "iterative_prompt prompt: You will receive a document and a set of top-level topics from a topic hierarchy. Your task is to identify generalizable topics within the document that can act as top-level topics in the hierarchy. If any relevant topics are missing from the provided set, please add them. Otherwise, output the existing top-level topics as identified in the document.\n",
      "\n",
      "[Top-level topics]\n",
      "[1] Trade\n",
      "[1] Forest Conservation\n",
      "[1] Oil and Gas Exploration\n",
      "\n",
      "[Examples]\n",
      "Example 1: Adding \"[1] Agriculture\"\n",
      "Document: \n",
      "Saving Essential American Sailors Act or SEAS Act - Amends the Moving Ahead for Progress in the 21st Century Act (MAP-21) to repeal the Act's repeal of the agricultural export requirements that: (1) 25% of the gross tonnage of certain agricultural commodities or their products exported each fiscal year be transported on U.S. commercial vessels, and (2) the Secretary of Transportation (DOT) finance any increased ocean freight charges incurred in the transportation of such items. Revives and reinstates those repealed requirements to read as if they were never repealed.\n",
      "\n",
      "Your response: \n",
      "[1] Agriculture: Mentions policies relating to agricultural practices and products.\n",
      "\n",
      "Example 2: Duplicate \"[1] Trade\", returning the existing topic\n",
      "Document: \n",
      "Amends the Harmonized Tariff Schedule of the United States to suspend temporarily the duty on mixtures containing Fluopyram.\n",
      "\n",
      "Your response: \n",
      "[1] Trade: Mentions the exchange of capital, goods, and services.\n",
      "\n",
      "[Instructions]\n",
      "Step 1: Determine topics mentioned in the document. \n",
      "- The topic labels must be as GENERALIZABLE as possible. They must not be document-specific.\n",
      "- The topics must reflect a SINGLE topic instead of a combination of topics.\n",
      "- The new topics must have a level number, a short general label, and a topic description. \n",
      "- The topics must be broad enough to accommodate future subtopics. \n",
      "Step 2: Perform ONE of the following operations: \n",
      "1. If there are already duplicates or relevant topics in the hierarchy, output those topics and stop here. \n",
      "2. If the document contains no topic, return \"None\". \n",
      "3. Otherwise, add your topic as a top-level topic. Stop here and output the added topic(s). DO NOT add any additional levels.\n",
      "\n",
      "\n",
      "[Document]\n",
      "Leading and Expediting Aerotropolis Development Act of 2011 - Directs the Secretary of Transportation to establish an aerotropolis grant program to assist in the development of aerotropolis transportation systems (i.e., planned and coordinated multimodal freight and passenger transportation networks that provide efficient, sustainable, and intermodal connectivity to a defined region of economic significance centered around a major airport). Authorizes the Secretary to make grants to eligible entities to assist in planning, design, environmental review, or land acquisition activities for one or more specified kinds of projects to benefit such systems.\n",
      "\n",
      "Please ONLY return the relevant or modified topics at the top level in the hierarchy. Your response should be in the following format:\n",
      "[Topic Level] Topic Label: Topic Description\n",
      "\n",
      "Your response:\n",
      "type(final_prompt): <class 'torch.Tensor'>\n"
     ]
    },
    {
     "name": "stderr",
     "output_type": "stream",
     "text": [
      "The attention mask and the pad token id were not set. As a consequence, you may observe unexpected behavior. Please pass your input's `attention_mask` to obtain reliable results.\n",
      "Setting `pad_token_id` to `eos_token_id`:2 for open-end generation.\n"
     ]
    },
    {
     "name": "stdout",
     "output_type": "stream",
     "text": [
      "post_processed_output_text: [1]  Infrastructure Development: Mentions the planning, design, environmental review, or land acquisition activities for transportation systems. This topic is broad enough to accommodate future subtopics related to infrastructure development, such as roads, bridges, ports, and airports.</s>\n",
      "Topics: [1]  Infrastructure Development: Mentions the planning, design, environmental review, or land acquisition activities for transportation systems. This topic is broad enough to accommodate future subtopics related to infrastructure development, such as roads, bridges, ports, and airports.</s>\n",
      "--------------------\n",
      "iterative_prompt system_message: You are a helpful assistant.\n",
      "iterative_prompt prompt: You will receive a document and a set of top-level topics from a topic hierarchy. Your task is to identify generalizable topics within the document that can act as top-level topics in the hierarchy. If any relevant topics are missing from the provided set, please add them. Otherwise, output the existing top-level topics as identified in the document.\n",
      "\n",
      "[Top-level topics]\n",
      "[1] Trade\n",
      "[1] Forest Conservation\n",
      "[1] Oil and Gas Exploration\n",
      "[1] Infrastructure Development\n",
      "\n",
      "[Examples]\n",
      "Example 1: Adding \"[1] Agriculture\"\n",
      "Document: \n",
      "Saving Essential American Sailors Act or SEAS Act - Amends the Moving Ahead for Progress in the 21st Century Act (MAP-21) to repeal the Act's repeal of the agricultural export requirements that: (1) 25% of the gross tonnage of certain agricultural commodities or their products exported each fiscal year be transported on U.S. commercial vessels, and (2) the Secretary of Transportation (DOT) finance any increased ocean freight charges incurred in the transportation of such items. Revives and reinstates those repealed requirements to read as if they were never repealed.\n",
      "\n",
      "Your response: \n",
      "[1] Agriculture: Mentions policies relating to agricultural practices and products.\n",
      "\n",
      "Example 2: Duplicate \"[1] Trade\", returning the existing topic\n",
      "Document: \n",
      "Amends the Harmonized Tariff Schedule of the United States to suspend temporarily the duty on mixtures containing Fluopyram.\n",
      "\n",
      "Your response: \n",
      "[1] Trade: Mentions the exchange of capital, goods, and services.\n",
      "\n",
      "[Instructions]\n",
      "Step 1: Determine topics mentioned in the document. \n",
      "- The topic labels must be as GENERALIZABLE as possible. They must not be document-specific.\n",
      "- The topics must reflect a SINGLE topic instead of a combination of topics.\n",
      "- The new topics must have a level number, a short general label, and a topic description. \n",
      "- The topics must be broad enough to accommodate future subtopics. \n",
      "Step 2: Perform ONE of the following operations: \n",
      "1. If there are already duplicates or relevant topics in the hierarchy, output those topics and stop here. \n",
      "2. If the document contains no topic, return \"None\". \n",
      "3. Otherwise, add your topic as a top-level topic. Stop here and output the added topic(s). DO NOT add any additional levels.\n",
      "\n",
      "\n",
      "[Document]\n",
      "Prevention of Unsafe Licensing Act - Amends the REAL ID Act of 2005 to prohibit a state from issuing a driver's license or identification document to a person unless the state has complied with certain citizenship or lawful immigration status verification requirements.\n",
      "\n",
      "Please ONLY return the relevant or modified topics at the top level in the hierarchy. Your response should be in the following format:\n",
      "[Topic Level] Topic Label: Topic Description\n",
      "\n",
      "Your response:\n",
      "type(final_prompt): <class 'torch.Tensor'>\n"
     ]
    },
    {
     "name": "stderr",
     "output_type": "stream",
     "text": [
      "100%|████████████████████████████████████████████████████████████████████████████████████| 5/5 [08:08<00:00, 97.61s/it]"
     ]
    },
    {
     "name": "stdout",
     "output_type": "stream",
     "text": [
      "post_processed_output_text: [T] pic Label: Immigration Policy: Regulations governing the entry, stay, and departure of individuals in a country, including citizenship and lawful status verification.</s>\n",
      "Invalid topic format: [T] pic Label: Immigration Policy: Regulations governing the entry, stay, and departure of individuals in a country, including citizenship and lawful status verification.</s>. Skipping...\n",
      "Topics: [T] pic Label: Immigration Policy: Regulations governing the entry, stay, and departure of individuals in a country, including citizenship and lawful status verification.</s>\n",
      "--------------------\n"
     ]
    },
    {
     "name": "stderr",
     "output_type": "stream",
     "text": [
      "\n"
     ]
    },
    {
     "data": {
      "text/plain": [
       "<topicgpt_python.utils.TopicTree at 0x1fcb303fb10>"
      ]
     },
     "execution_count": 3,
     "metadata": {},
     "output_type": "execute_result"
    }
   ],
   "source": [
    "#MODEL_API = 'vllm'\n",
    "MODEL_API = 'custom_llm'\n",
    "\n",
    "MODEL_NAME = \"C:/git/Mistral-7B-Instruct-v0.3-quantized.w4a16\"\n",
    "#MODEL_NAME = \"C:/git/Mistral-7B-Instruct-v0.3-quantized.w8a16\"\n",
    "#MODEL_NAME = 'C:/git/Mistral-7B-Instruct-v0.1'\n",
    "\n",
    "generate_topic_lvl1(\n",
    "    MODEL_API,\n",
    "    MODEL_NAME,\n",
    "    config[\"data_sample\"],\n",
    "    config[\"generation\"][\"prompt\"],\n",
    "    config[\"generation\"][\"seed\"],\n",
    "    config[\"generation\"][\"output\"],\n",
    "    config[\"generation\"][\"topic_output\"],\n",
    "    verbose=config[\"verbose\"],\n",
    ")"
   ]
  },
  {
   "cell_type": "markdown",
   "metadata": {},
   "source": [
    "### Topic Refinement\n",
    "If topics are generated by a weaker model, there sometimes exist irrelevant or redundant topics. This module: \n",
    "- Merges similar topics.\n",
    "- Removes overly specific or redundant topics that occur < 1% of the time (you can skip this by setting `remove` to False in `config.yml`).\n",
    "- Expect the refined topics in `data/output/{data_name}/refinement_1.md` and `data/output/{data_name}/refinement_1.jsonl`. If nothing happens, it means that the topic list is coherent.\n",
    "- If you're unsatisfied with the refined topics, call the function again with the refined topic file and refined topic file from the previous iteration"
   ]
  },
  {
   "cell_type": "code",
   "execution_count": 4,
   "metadata": {},
   "outputs": [
    {
     "name": "stdout",
     "output_type": "stream",
     "text": [
      "Preparing to import and load with custom_llm\n",
      "Model loaded with custom_llm\n",
      "Tokenizer loaded with custom_llm\n",
      "-------------------\n",
      "Initializing topic refinement...\n",
      "Model: C:/git/Mistral-7B-Instruct-v0.3-quantized.w4a16\n",
      "Input data file: data/output/sample/generation_1.jsonl\n",
      "Prompt file: prompt/refinement.txt\n",
      "Output file: data/output/sample/refinement.md\n",
      "Topic file: data/output/sample/generation_1.md\n",
      "-------------------\n",
      "No topic pairs to be merged.\n",
      "No topics removed.\n",
      "Node('/Topics', count=1, desc='Root topic', lvl=0)\n",
      "├── Node('/Topics/Forest Conservation', count=1, desc='Regulates the management and protection of forest areas to maintain their natural state.', lvl=1)\n",
      "├── Node('/Topics/Oil and Gas Exploration', count=1, desc='Discusses the exploration, extraction, and management of oil and gas resources.', lvl=1)\n",
      "└── Node('/Topics/Infrastructure Development', count=1, desc='Mentions the planning, design, environmental review, or land acquisition activities for transportation systems. This topic is broad enough to accommodate future subtopics related to infrastructure development, such as roads, bridges, ports, and airports.</s>', lvl=1)\n"
     ]
    }
   ],
   "source": [
    "# Optional: Refine topics if needed\n",
    "if config[\"refining_topics\"]:\n",
    "    refine_topics(\n",
    "        MODEL_API,\n",
    "        MODEL_NAME,\n",
    "        config[\"refinement\"][\"prompt\"],\n",
    "        config[\"generation\"][\"output\"],\n",
    "        config[\"generation\"][\"topic_output\"],\n",
    "        config[\"refinement\"][\"topic_output\"],\n",
    "        config[\"refinement\"][\"output\"],\n",
    "        verbose=config[\"verbose\"],\n",
    "        remove=config[\"refinement\"][\"remove\"],\n",
    "        mapping_file=config[\"refinement\"][\"mapping_file\"]\n",
    "    )"
   ]
  },
  {
   "cell_type": "markdown",
   "metadata": {},
   "source": [
    "### Subtopic Generation \n",
    "Generate subtopics using `generate_topic_lvl2`.\n",
    "- This function iterates over each high-level topic and generates subtopics based on a few example documents associated with the high-level topic.\n",
    "- Expect the generated topics in `data/output/{data_name}/generation_2.md` and `data/output/{data_name}/generation_2.jsonl`."
   ]
  },
  {
   "cell_type": "code",
   "execution_count": 5,
   "metadata": {},
   "outputs": [
    {
     "name": "stdout",
     "output_type": "stream",
     "text": [
      "Preparing to import and load with custom_llm\n",
      "Model loaded with custom_llm\n",
      "Tokenizer loaded with custom_llm\n",
      "-------------------\n",
      "Initializing topic generation (lvl 2)...\n",
      "Model: C:/git/Mistral-7B-Instruct-v0.3-quantized.w4a16\n",
      "Data file: data/output/sample/generation_1.jsonl\n",
      "Prompt file: prompt/generation_2.txt\n",
      "Seed file: data/output/sample/generation_1.md\n",
      "Output file: data/output/sample/generation_2.jsonl\n",
      "Topic file: data/output/sample/generation_2.md\n",
      "-------------------\n",
      "Number of remaining documents for prompting: 0\n"
     ]
    },
    {
     "name": "stderr",
     "output_type": "stream",
     "text": [
      "  0%|                                                                                            | 0/3 [00:00<?, ?it/s]"
     ]
    },
    {
     "name": "stdout",
     "output_type": "stream",
     "text": [
      "Current topic: [1] Forest Conservation\n"
     ]
    },
    {
     "name": "stderr",
     "output_type": "stream",
     "text": [
      "\n"
     ]
    },
    {
     "ename": "KeyError",
     "evalue": "'text'",
     "output_type": "error",
     "traceback": [
      "\u001b[1;31m---------------------------------------------------------------------------\u001b[0m",
      "\u001b[1;31mKeyError\u001b[0m                                  Traceback (most recent call last)",
      "File \u001b[1;32m~\\.conda\\envs\\topic_gpt_gpu_updated\\Lib\\site-packages\\pandas\\core\\indexes\\base.py:3805\u001b[0m, in \u001b[0;36mIndex.get_loc\u001b[1;34m(self, key)\u001b[0m\n\u001b[0;32m   3804\u001b[0m \u001b[38;5;28;01mtry\u001b[39;00m:\n\u001b[1;32m-> 3805\u001b[0m     \u001b[38;5;28;01mreturn\u001b[39;00m \u001b[38;5;28;43mself\u001b[39;49m\u001b[38;5;241;43m.\u001b[39;49m\u001b[43m_engine\u001b[49m\u001b[38;5;241;43m.\u001b[39;49m\u001b[43mget_loc\u001b[49m\u001b[43m(\u001b[49m\u001b[43mcasted_key\u001b[49m\u001b[43m)\u001b[49m\n\u001b[0;32m   3806\u001b[0m \u001b[38;5;28;01mexcept\u001b[39;00m \u001b[38;5;167;01mKeyError\u001b[39;00m \u001b[38;5;28;01mas\u001b[39;00m err:\n",
      "File \u001b[1;32mindex.pyx:167\u001b[0m, in \u001b[0;36mpandas._libs.index.IndexEngine.get_loc\u001b[1;34m()\u001b[0m\n",
      "File \u001b[1;32mindex.pyx:196\u001b[0m, in \u001b[0;36mpandas._libs.index.IndexEngine.get_loc\u001b[1;34m()\u001b[0m\n",
      "File \u001b[1;32mpandas\\\\_libs\\\\hashtable_class_helper.pxi:7081\u001b[0m, in \u001b[0;36mpandas._libs.hashtable.PyObjectHashTable.get_item\u001b[1;34m()\u001b[0m\n",
      "File \u001b[1;32mpandas\\\\_libs\\\\hashtable_class_helper.pxi:7089\u001b[0m, in \u001b[0;36mpandas._libs.hashtable.PyObjectHashTable.get_item\u001b[1;34m()\u001b[0m\n",
      "\u001b[1;31mKeyError\u001b[0m: 'text'",
      "\nThe above exception was the direct cause of the following exception:\n",
      "\u001b[1;31mKeyError\u001b[0m                                  Traceback (most recent call last)",
      "Cell \u001b[1;32mIn[5], line 3\u001b[0m\n\u001b[0;32m      1\u001b[0m \u001b[38;5;66;03m# Optional: Generate subtopics\u001b[39;00m\n\u001b[0;32m      2\u001b[0m \u001b[38;5;28;01mif\u001b[39;00m config[\u001b[38;5;124m\"\u001b[39m\u001b[38;5;124mgenerate_subtopics\u001b[39m\u001b[38;5;124m\"\u001b[39m]:\n\u001b[1;32m----> 3\u001b[0m     \u001b[43mgenerate_topic_lvl2\u001b[49m\u001b[43m(\u001b[49m\n\u001b[0;32m      4\u001b[0m \u001b[43m        \u001b[49m\u001b[43mMODEL_API\u001b[49m\u001b[43m,\u001b[49m\n\u001b[0;32m      5\u001b[0m \u001b[43m        \u001b[49m\u001b[43mMODEL_NAME\u001b[49m\u001b[43m,\u001b[49m\n\u001b[0;32m      6\u001b[0m \u001b[43m        \u001b[49m\u001b[43mconfig\u001b[49m\u001b[43m[\u001b[49m\u001b[38;5;124;43m\"\u001b[39;49m\u001b[38;5;124;43mgeneration\u001b[39;49m\u001b[38;5;124;43m\"\u001b[39;49m\u001b[43m]\u001b[49m\u001b[43m[\u001b[49m\u001b[38;5;124;43m\"\u001b[39;49m\u001b[38;5;124;43mtopic_output\u001b[39;49m\u001b[38;5;124;43m\"\u001b[39;49m\u001b[43m]\u001b[49m\u001b[43m,\u001b[49m\n\u001b[0;32m      7\u001b[0m \u001b[43m        \u001b[49m\u001b[43mconfig\u001b[49m\u001b[43m[\u001b[49m\u001b[38;5;124;43m\"\u001b[39;49m\u001b[38;5;124;43mgeneration\u001b[39;49m\u001b[38;5;124;43m\"\u001b[39;49m\u001b[43m]\u001b[49m\u001b[43m[\u001b[49m\u001b[38;5;124;43m\"\u001b[39;49m\u001b[38;5;124;43moutput\u001b[39;49m\u001b[38;5;124;43m\"\u001b[39;49m\u001b[43m]\u001b[49m\u001b[43m,\u001b[49m\n\u001b[0;32m      8\u001b[0m \u001b[43m        \u001b[49m\u001b[43mconfig\u001b[49m\u001b[43m[\u001b[49m\u001b[38;5;124;43m\"\u001b[39;49m\u001b[38;5;124;43mgeneration_2\u001b[39;49m\u001b[38;5;124;43m\"\u001b[39;49m\u001b[43m]\u001b[49m\u001b[43m[\u001b[49m\u001b[38;5;124;43m\"\u001b[39;49m\u001b[38;5;124;43mprompt\u001b[39;49m\u001b[38;5;124;43m\"\u001b[39;49m\u001b[43m]\u001b[49m\u001b[43m,\u001b[49m\n\u001b[0;32m      9\u001b[0m \u001b[43m        \u001b[49m\u001b[43mconfig\u001b[49m\u001b[43m[\u001b[49m\u001b[38;5;124;43m\"\u001b[39;49m\u001b[38;5;124;43mgeneration_2\u001b[39;49m\u001b[38;5;124;43m\"\u001b[39;49m\u001b[43m]\u001b[49m\u001b[43m[\u001b[49m\u001b[38;5;124;43m\"\u001b[39;49m\u001b[38;5;124;43moutput\u001b[39;49m\u001b[38;5;124;43m\"\u001b[39;49m\u001b[43m]\u001b[49m\u001b[43m,\u001b[49m\n\u001b[0;32m     10\u001b[0m \u001b[43m        \u001b[49m\u001b[43mconfig\u001b[49m\u001b[43m[\u001b[49m\u001b[38;5;124;43m\"\u001b[39;49m\u001b[38;5;124;43mgeneration_2\u001b[39;49m\u001b[38;5;124;43m\"\u001b[39;49m\u001b[43m]\u001b[49m\u001b[43m[\u001b[49m\u001b[38;5;124;43m\"\u001b[39;49m\u001b[38;5;124;43mtopic_output\u001b[39;49m\u001b[38;5;124;43m\"\u001b[39;49m\u001b[43m]\u001b[49m\u001b[43m,\u001b[49m\n\u001b[0;32m     11\u001b[0m \u001b[43m        \u001b[49m\u001b[43mverbose\u001b[49m\u001b[38;5;241;43m=\u001b[39;49m\u001b[43mconfig\u001b[49m\u001b[43m[\u001b[49m\u001b[38;5;124;43m\"\u001b[39;49m\u001b[38;5;124;43mverbose\u001b[39;49m\u001b[38;5;124;43m\"\u001b[39;49m\u001b[43m]\u001b[49m\u001b[43m,\u001b[49m\n\u001b[0;32m     12\u001b[0m \u001b[43m    \u001b[49m\u001b[43m)\u001b[49m\n",
      "File \u001b[1;32mC:\\git\\topicGPT_burgersmoke_topicgpt_updated_with_vllm\\topicgpt_python\\generation_2.py:283\u001b[0m, in \u001b[0;36mgenerate_topic_lvl2\u001b[1;34m(api, model, seed_file, data, prompt_file, out_file, topic_file, verbose)\u001b[0m\n\u001b[0;32m    280\u001b[0m     \u001b[38;5;28mprint\u001b[39m(\u001b[38;5;124m\"\u001b[39m\u001b[38;5;124mNumber of remaining documents for prompting:\u001b[39m\u001b[38;5;124m\"\u001b[39m, \u001b[38;5;28mlen\u001b[39m(df))\n\u001b[0;32m    282\u001b[0m \u001b[38;5;66;03m# Generate topics\u001b[39;00m\n\u001b[1;32m--> 283\u001b[0m res, docs \u001b[38;5;241m=\u001b[39m \u001b[43mgenerate_topics\u001b[49m\u001b[43m(\u001b[49m\n\u001b[0;32m    284\u001b[0m \u001b[43m    \u001b[49m\u001b[43mapi_client\u001b[49m\u001b[43m,\u001b[49m\n\u001b[0;32m    285\u001b[0m \u001b[43m    \u001b[49m\u001b[43mdf\u001b[49m\u001b[43m,\u001b[49m\n\u001b[0;32m    286\u001b[0m \u001b[43m    \u001b[49m\u001b[43mtopics_root\u001b[49m\u001b[43m,\u001b[49m\n\u001b[0;32m    287\u001b[0m \u001b[43m    \u001b[49m\u001b[43mgeneration_prompt\u001b[49m\u001b[43m,\u001b[49m\n\u001b[0;32m    288\u001b[0m \u001b[43m    \u001b[49m\u001b[38;5;241;43m128000\u001b[39;49m\u001b[43m,\u001b[49m\n\u001b[0;32m    289\u001b[0m \u001b[43m    \u001b[49m\u001b[43mmax_tokens\u001b[49m\u001b[43m,\u001b[49m\n\u001b[0;32m    290\u001b[0m \u001b[43m    \u001b[49m\u001b[43mtemperature\u001b[49m\u001b[43m,\u001b[49m\n\u001b[0;32m    291\u001b[0m \u001b[43m    \u001b[49m\u001b[43mtop_p\u001b[49m\u001b[43m,\u001b[49m\n\u001b[0;32m    292\u001b[0m \u001b[43m    \u001b[49m\u001b[43mverbose\u001b[49m\u001b[43m,\u001b[49m\n\u001b[0;32m    293\u001b[0m \u001b[43m\u001b[49m\u001b[43m)\u001b[49m\n\u001b[0;32m    295\u001b[0m \u001b[38;5;66;03m# Write results\u001b[39;00m\n\u001b[0;32m    296\u001b[0m topics_root\u001b[38;5;241m.\u001b[39mto_file(topic_file)\n",
      "File \u001b[1;32mC:\\git\\topicGPT_burgersmoke_topicgpt_updated_with_vllm\\topicgpt_python\\generation_2.py:201\u001b[0m, in \u001b[0;36mgenerate_topics\u001b[1;34m(api_client, df, topics_root, gen_prompt, context_len, max_tokens, temperature, top_p, verbose, max_topic_num)\u001b[0m\n\u001b[0;32m    198\u001b[0m \u001b[38;5;28;01mif\u001b[39;00m verbose:\n\u001b[0;32m    199\u001b[0m     \u001b[38;5;28mprint\u001b[39m(\u001b[38;5;124m\"\u001b[39m\u001b[38;5;124mCurrent topic:\u001b[39m\u001b[38;5;124m\"\u001b[39m, current_topic)\n\u001b[1;32m--> 201\u001b[0m relevant_docs \u001b[38;5;241m=\u001b[39m \u001b[43mretrieve_documents\u001b[49m\u001b[43m(\u001b[49m\u001b[43mdf\u001b[49m\u001b[43m,\u001b[49m\u001b[43m \u001b[49m\u001b[43mcurrent_topic\u001b[49m\u001b[43m)\u001b[49m\n\u001b[0;32m    202\u001b[0m doc_prompt \u001b[38;5;241m=\u001b[39m construct_prompt(\n\u001b[0;32m    203\u001b[0m     gen_prompt,\n\u001b[0;32m    204\u001b[0m     current_topic,\n\u001b[1;32m   (...)\u001b[0m\n\u001b[0;32m    208\u001b[0m     api_client,\n\u001b[0;32m    209\u001b[0m )\n\u001b[0;32m    211\u001b[0m \u001b[38;5;28;01mfor\u001b[39;00m doc \u001b[38;5;129;01min\u001b[39;00m doc_prompt:\n",
      "File \u001b[1;32mC:\\git\\topicGPT_burgersmoke_topicgpt_updated_with_vllm\\topicgpt_python\\generation_2.py:97\u001b[0m, in \u001b[0;36mretrieve_documents\u001b[1;34m(df, topic)\u001b[0m\n\u001b[0;32m     87\u001b[0m \u001b[38;5;28;01mdef\u001b[39;00m\u001b[38;5;250m \u001b[39m\u001b[38;5;21mretrieve_documents\u001b[39m(df, topic):\n\u001b[0;32m     88\u001b[0m \u001b[38;5;250m    \u001b[39m\u001b[38;5;124;03m\"\"\"\u001b[39;00m\n\u001b[0;32m     89\u001b[0m \u001b[38;5;124;03m    Retrieve documents related to a specific topic.\u001b[39;00m\n\u001b[0;32m     90\u001b[0m \n\u001b[1;32m   (...)\u001b[0m\n\u001b[0;32m     95\u001b[0m \u001b[38;5;124;03m    Returns: List of documents related to the topic\u001b[39;00m\n\u001b[0;32m     96\u001b[0m \u001b[38;5;124;03m    \"\"\"\u001b[39;00m\n\u001b[1;32m---> 97\u001b[0m     \u001b[38;5;28;01mreturn\u001b[39;00m \u001b[43mdf\u001b[49m\u001b[43m[\u001b[49m\u001b[43mdf\u001b[49m\u001b[43m[\u001b[49m\u001b[38;5;124;43m\"\u001b[39;49m\u001b[38;5;124;43mtopics\u001b[39;49m\u001b[38;5;124;43m\"\u001b[39;49m\u001b[43m]\u001b[49m\u001b[38;5;241;43m.\u001b[39;49m\u001b[43mapply\u001b[49m\u001b[43m(\u001b[49m\u001b[38;5;28;43;01mlambda\u001b[39;49;00m\u001b[43m \u001b[49m\u001b[43mx\u001b[49m\u001b[43m:\u001b[49m\u001b[43m \u001b[49m\u001b[43mtopic\u001b[49m\u001b[43m \u001b[49m\u001b[38;5;129;43;01min\u001b[39;49;00m\u001b[43m \u001b[49m\u001b[43mx\u001b[49m\u001b[43m)\u001b[49m\u001b[43m]\u001b[49m\u001b[43m[\u001b[49m\u001b[38;5;124;43m\"\u001b[39;49m\u001b[38;5;124;43mtext\u001b[39;49m\u001b[38;5;124;43m\"\u001b[39;49m\u001b[43m]\u001b[49m\u001b[38;5;241m.\u001b[39mtolist()\n",
      "File \u001b[1;32m~\\.conda\\envs\\topic_gpt_gpu_updated\\Lib\\site-packages\\pandas\\core\\frame.py:4102\u001b[0m, in \u001b[0;36mDataFrame.__getitem__\u001b[1;34m(self, key)\u001b[0m\n\u001b[0;32m   4100\u001b[0m \u001b[38;5;28;01mif\u001b[39;00m \u001b[38;5;28mself\u001b[39m\u001b[38;5;241m.\u001b[39mcolumns\u001b[38;5;241m.\u001b[39mnlevels \u001b[38;5;241m>\u001b[39m \u001b[38;5;241m1\u001b[39m:\n\u001b[0;32m   4101\u001b[0m     \u001b[38;5;28;01mreturn\u001b[39;00m \u001b[38;5;28mself\u001b[39m\u001b[38;5;241m.\u001b[39m_getitem_multilevel(key)\n\u001b[1;32m-> 4102\u001b[0m indexer \u001b[38;5;241m=\u001b[39m \u001b[38;5;28;43mself\u001b[39;49m\u001b[38;5;241;43m.\u001b[39;49m\u001b[43mcolumns\u001b[49m\u001b[38;5;241;43m.\u001b[39;49m\u001b[43mget_loc\u001b[49m\u001b[43m(\u001b[49m\u001b[43mkey\u001b[49m\u001b[43m)\u001b[49m\n\u001b[0;32m   4103\u001b[0m \u001b[38;5;28;01mif\u001b[39;00m is_integer(indexer):\n\u001b[0;32m   4104\u001b[0m     indexer \u001b[38;5;241m=\u001b[39m [indexer]\n",
      "File \u001b[1;32m~\\.conda\\envs\\topic_gpt_gpu_updated\\Lib\\site-packages\\pandas\\core\\indexes\\base.py:3812\u001b[0m, in \u001b[0;36mIndex.get_loc\u001b[1;34m(self, key)\u001b[0m\n\u001b[0;32m   3807\u001b[0m     \u001b[38;5;28;01mif\u001b[39;00m \u001b[38;5;28misinstance\u001b[39m(casted_key, \u001b[38;5;28mslice\u001b[39m) \u001b[38;5;129;01mor\u001b[39;00m (\n\u001b[0;32m   3808\u001b[0m         \u001b[38;5;28misinstance\u001b[39m(casted_key, abc\u001b[38;5;241m.\u001b[39mIterable)\n\u001b[0;32m   3809\u001b[0m         \u001b[38;5;129;01mand\u001b[39;00m \u001b[38;5;28many\u001b[39m(\u001b[38;5;28misinstance\u001b[39m(x, \u001b[38;5;28mslice\u001b[39m) \u001b[38;5;28;01mfor\u001b[39;00m x \u001b[38;5;129;01min\u001b[39;00m casted_key)\n\u001b[0;32m   3810\u001b[0m     ):\n\u001b[0;32m   3811\u001b[0m         \u001b[38;5;28;01mraise\u001b[39;00m InvalidIndexError(key)\n\u001b[1;32m-> 3812\u001b[0m     \u001b[38;5;28;01mraise\u001b[39;00m \u001b[38;5;167;01mKeyError\u001b[39;00m(key) \u001b[38;5;28;01mfrom\u001b[39;00m\u001b[38;5;250m \u001b[39m\u001b[38;5;21;01merr\u001b[39;00m\n\u001b[0;32m   3813\u001b[0m \u001b[38;5;28;01mexcept\u001b[39;00m \u001b[38;5;167;01mTypeError\u001b[39;00m:\n\u001b[0;32m   3814\u001b[0m     \u001b[38;5;66;03m# If we have a listlike key, _check_indexing_error will raise\u001b[39;00m\n\u001b[0;32m   3815\u001b[0m     \u001b[38;5;66;03m#  InvalidIndexError. Otherwise we fall through and re-raise\u001b[39;00m\n\u001b[0;32m   3816\u001b[0m     \u001b[38;5;66;03m#  the TypeError.\u001b[39;00m\n\u001b[0;32m   3817\u001b[0m     \u001b[38;5;28mself\u001b[39m\u001b[38;5;241m.\u001b[39m_check_indexing_error(key)\n",
      "\u001b[1;31mKeyError\u001b[0m: 'text'"
     ]
    }
   ],
   "source": [
    "# Optional: Generate subtopics\n",
    "if config[\"generate_subtopics\"]:\n",
    "    generate_topic_lvl2(\n",
    "        MODEL_API,\n",
    "        MODEL_NAME,\n",
    "        config[\"generation\"][\"topic_output\"],\n",
    "        config[\"generation\"][\"output\"],\n",
    "        config[\"generation_2\"][\"prompt\"],\n",
    "        config[\"generation_2\"][\"output\"],\n",
    "        config[\"generation_2\"][\"topic_output\"],\n",
    "        verbose=config[\"verbose\"],\n",
    "    )"
   ]
  },
  {
   "cell_type": "markdown",
   "metadata": {},
   "source": [
    "### Topic Assignment\n",
    "Assign the generated topics to the input text using `assign_topics`. Each assignment is supported by a quote from the input text.\n",
    "- Expect the assigned topics in `data/output/{data_name}/assignment.jsonl`. \n",
    "- The model used here is often a weaker model to save cost, so the topics may not be grounded in the topic list. To correct this, use the `correct_topics` module. If there are still errors/hallucinations, run the `correct_topics` module again."
   ]
  },
  {
   "cell_type": "code",
   "execution_count": 7,
   "metadata": {},
   "outputs": [
    {
     "name": "stdout",
     "output_type": "stream",
     "text": [
      "Preparing to import and load with custom_llm\n",
      "Model loaded with custom_llm\n",
      "Tokenizer loaded with custom_llm\n",
      "-------------------\n",
      "Initializing topic assignment...\n",
      "Model: C:/git/Mistral-7B-Instruct-v0.3-quantized.w4a16\n",
      "Data file: data/input/sample.jsonl\n",
      "Prompt file: prompt/assignment.txt\n",
      "Output file: data/output/sample/assignment.jsonl\n",
      "Topic file: data/output/sample/generation_1.md\n",
      "-------------------\n"
     ]
    },
    {
     "name": "stderr",
     "output_type": "stream",
     "text": [
      "100%|████████████████████████████████████████████████████████████████████████████████████| 5/5 [00:36<00:00,  7.29s/it]"
     ]
    },
    {
     "name": "stdout",
     "output_type": "stream",
     "text": [
      "batch_prompt prompts: ['You will receive a document and a topic hierarchy. Assign the document to the most relevant topics the hierarchy. Then, output the topic labels, assignment reasoning and supporting quotes from the document. DO NOT make up new topics or quotes.  \\n\\n[Topic Hierarchy]\\n[1] Forest Conservation: Regulates the management and protection of forest areas to maintain their natural state.\\n[1] Oil and Gas Exploration: Discusses the exploration, extraction, and management of oil and gas resources.\\n[1] Infrastructure Development: Mentions the planning, design, environmental review, or land acquisition activities for transportation systems. This topic is broad enough to accommodate future subtopics related to infrastructure development, such as roads, bridges, ports, and airports.</s>\\n\\n[Examples]\\nExample 1: Assign \"[1] Agriculture\" to the document\\nDocument: \\nSaving Essential American Sailors Act or SEAS Act - Amends the Moving Ahead for Progress in the 21st Century Act (MAP-21) to repeal the Act\\'s repeal of the agricultural export requirements that: (1) 25% of the gross tonnage of certain agricultural commodities or their products exported each fiscal year be transported on U.S. commercial vessels, and (2) the Secretary of Transportation (DOT) finance any increased ocean freight charges incurred in the transportation of such items.\\n\\nAssignment:\\n[1] Agriculture: Mentions changes in agricultural export requirements (\"...repeal of the agricultural export requirements that...\")\\n\\nExample 2: Assigned \"[1] Trade\" to the document\\nDocument: \\nAmends the Harmonized Tariff Schedule of the United States to suspend temporarily the duty on mixtures containing Fluopyram.\\n\\nAssignment: \\n[1] Trade: Mentions adjusting the taxation on mixtures containing Fluopyram (\"...suspend temporarily the duty on mixtures containing Fluopyram.\")\\n\\n[Instructions]\\n1. Topic labels must be present in the provided topic hierarchy. You MUST NOT make up new topics. \\n2. The quote must be taken from the document. You MUST NOT make up quotes. \\n\\n[Document]\\nNational Forest Roadless Area Conservation Act - Identifies roadless areas within the National Forest System set forth in specified maps as National Forest Inventoried Roadless Areas, and directs the Secretary of Agriculture to manage such Areas to maintain their roadless character. Authorizes the Forest Service to modify such maps for the sole purpose of improving their accuracy or inclusiveness. Requires any substantial modification of those maps to be made through the national forest management planning process and documented in an environmental impact statement.\\n\\nDouble check that your assignment exists in the hierarchy!\\nYour response should be in the following format:\\n[Topic Level] Topic Label: Assignment reasoning (Supporting quote)\\n\\nYour response:', 'You will receive a document and a topic hierarchy. Assign the document to the most relevant topics the hierarchy. Then, output the topic labels, assignment reasoning and supporting quotes from the document. DO NOT make up new topics or quotes.  \\n\\n[Topic Hierarchy]\\n[1] Forest Conservation: Regulates the management and protection of forest areas to maintain their natural state.\\n[1] Oil and Gas Exploration: Discusses the exploration, extraction, and management of oil and gas resources.\\n[1] Infrastructure Development: Mentions the planning, design, environmental review, or land acquisition activities for transportation systems. This topic is broad enough to accommodate future subtopics related to infrastructure development, such as roads, bridges, ports, and airports.</s>\\n\\n[Examples]\\nExample 1: Assign \"[1] Agriculture\" to the document\\nDocument: \\nSaving Essential American Sailors Act or SEAS Act - Amends the Moving Ahead for Progress in the 21st Century Act (MAP-21) to repeal the Act\\'s repeal of the agricultural export requirements that: (1) 25% of the gross tonnage of certain agricultural commodities or their products exported each fiscal year be transported on U.S. commercial vessels, and (2) the Secretary of Transportation (DOT) finance any increased ocean freight charges incurred in the transportation of such items.\\n\\nAssignment:\\n[1] Agriculture: Mentions changes in agricultural export requirements (\"...repeal of the agricultural export requirements that...\")\\n\\nExample 2: Assigned \"[1] Trade\" to the document\\nDocument: \\nAmends the Harmonized Tariff Schedule of the United States to suspend temporarily the duty on mixtures containing Fluopyram.\\n\\nAssignment: \\n[1] Trade: Mentions adjusting the taxation on mixtures containing Fluopyram (\"...suspend temporarily the duty on mixtures containing Fluopyram.\")\\n\\n[Instructions]\\n1. Topic labels must be present in the provided topic hierarchy. You MUST NOT make up new topics. \\n2. The quote must be taken from the document. You MUST NOT make up quotes. \\n\\n[Document]\\nSpokane Tribe of Indians of the Spokane Reservation Grand Coulee Dam Equitable Compensation Settlement Act - (Sec. 3) States that the purpose of this Act is to compensate the Spokane Tribe of Indians of the Spokane Reservation, Washington State for the use of its land for hydropower generation by the Grand Coulee Dam. (Sec. 5) Establishes in the Treasury the Spokane Tribe of Indians Settlement Fund. Authorizes the Spokane Business Council, upon a Fund deposit, to notify the Secretary requesting that the Secretary pay all or a portion of the Fund amounts to the Council. Obligates Fund amounts for: (1) a Cultural Resource Repository and Interpretive Center concerning the culture and history of the Tribe; (2) tribal member benefits; and (3) resource development, credit, scholarship, or educational programs. (Sec. 6) Directs the Administrator of the Bonneville Power Administration (or the head of a successor entity that markets power produced at the Grand Coulee Dam) to pay to the Tribe: (1) on March 1, 2010, 29% of the computed annual payment for FY2009; and (2) on March 1 of each subsequent year, 29% of the computed annual payment for the preceding fiscal year. (Sec. 7) Allows payments made to the Council or Tribe to be used or invested by the Council in the same manner and for the same purposes as other Tribe governmental funds. Provides that: (1) neither the Secretary of the Interior nor the Administrator shall have trust responsibility for the investment, administration, or expenditure of any funds after the date on which the funds are paid to the Council or Tribe; (2) the payments of all funds to the Council and Tribe and the interest and income generated by the funds, shall be treated in the same manner as specified payments under the Saginaw Chippewa Indian Tribe of Michigan Distribution of Judgment Funds Act; and (3) after the date of fund transfer to the Council or Tribe the funds shall be Tribe governmental funds and subject to annual tribal government audit. (Sec. 8) Sets forth repayment credit provisions. (Sec. 9) Directs the Secretary to transfer administrative jurisdiction from the Bureau of Reclamation to the Bureau of Indian Affairs (BIA) over certain land located within the exterior boundaries of the Spokane Indian Reservation. Provides, with regard to land transferred under this section that: (1) such land shall be held in trust for the Tribe and shall remain part of the Spokane Indian Reservation; (2) the federal trust responsibility shall be the same as for other tribal land held in trust within the Spokane Indian Reservation; (3) the United States reserves a perpetual right over such land to carry out the Columbia Basin Project; and (4) land that was included in the Lake Roosevelt National Recreation Area shall remain part of the Recreation Area. States that nothing in this section establishes or affects the boundary between the Spokane Indian Reservation and the Colville Reservation along the Columbia River and Lake Roosevelt or the agreements and rights provided for in the Act of June 29, 1940. (Sec. 10) Provides that payments by the Secretary and the Administrator and restoration of ownership of land in trust constitute full satisfaction of the claim of the Tribe to a fair share of the annual hydropower revenues generated by the Grand Coulee Dam project for the past and continued use of land of the Tribe for the production of hydropower at Grand Coulee Dam. (Sec. 11) Authorizes appropriations to carry out this Act. (Sec. 12) States that nothing in this Act establishes any precedent or is binding on the Southwestern Power Administration, Western Area Power Administration, or Southeastern Power Administration.\\n\\nDouble check that your assignment exists in the hierarchy!\\nYour response should be in the following format:\\n[Topic Level] Topic Label: Assignment reasoning (Supporting quote)\\n\\nYour response:', 'You will receive a document and a topic hierarchy. Assign the document to the most relevant topics the hierarchy. Then, output the topic labels, assignment reasoning and supporting quotes from the document. DO NOT make up new topics or quotes.  \\n\\n[Topic Hierarchy]\\n[1] Forest Conservation: Regulates the management and protection of forest areas to maintain their natural state.\\n[1] Oil and Gas Exploration: Discusses the exploration, extraction, and management of oil and gas resources.\\n[1] Infrastructure Development: Mentions the planning, design, environmental review, or land acquisition activities for transportation systems. This topic is broad enough to accommodate future subtopics related to infrastructure development, such as roads, bridges, ports, and airports.</s>\\n\\n[Examples]\\nExample 1: Assign \"[1] Agriculture\" to the document\\nDocument: \\nSaving Essential American Sailors Act or SEAS Act - Amends the Moving Ahead for Progress in the 21st Century Act (MAP-21) to repeal the Act\\'s repeal of the agricultural export requirements that: (1) 25% of the gross tonnage of certain agricultural commodities or their products exported each fiscal year be transported on U.S. commercial vessels, and (2) the Secretary of Transportation (DOT) finance any increased ocean freight charges incurred in the transportation of such items.\\n\\nAssignment:\\n[1] Agriculture: Mentions changes in agricultural export requirements (\"...repeal of the agricultural export requirements that...\")\\n\\nExample 2: Assigned \"[1] Trade\" to the document\\nDocument: \\nAmends the Harmonized Tariff Schedule of the United States to suspend temporarily the duty on mixtures containing Fluopyram.\\n\\nAssignment: \\n[1] Trade: Mentions adjusting the taxation on mixtures containing Fluopyram (\"...suspend temporarily the duty on mixtures containing Fluopyram.\")\\n\\n[Instructions]\\n1. Topic labels must be present in the provided topic hierarchy. You MUST NOT make up new topics. \\n2. The quote must be taken from the document. You MUST NOT make up quotes. \\n\\n[Document]\\nRigs to Reefs Habitat Protection Act - Directs the Secretary of the Interior to assess each offshore oil and gas platform in the Gulf of Mexico that is no longer useful for operations, and has become critical for a marine fisheries habitat, to: (1) determine whether there are coral populations or other protected species in the platform\\'s vicinity, and (2) identify any species in the vicinity that have recreational or commercial value.\\n\\nProhibits the removal of any such platforms until the Secretary has completed each assessment.\\n\\nRequires suspension of the decommissioning of a platform if a substantial reef ecosystem is in the vicinity until the Secretary determines that decommissioning would not harm the ecosystem.\\n\\nExempts from certain platform removal deadlines any lessees who: (1) commit to entering a particular platform in the artificial reef program under the National Fishing Enhancement Act of 1984, and (2) initiate discussions with applicable states regarding potential artificial reef sites.\\n\\nAllows a lessee to provide for reefing in place under the artificial reef program.\\n\\nPermits states with a state rig-to-reef program to enter agreements with any appropriate entities to assume liability in federal water for a structure covered by the state program.\\n\\nEstablishes a Reef Maintenance Fund. Requires the owner of a rig enrolled in the artificial reef program to: (1) maintain a rig anode system; and (2) pay into the Fund 50% of the estimated platform removal costs for which the owner would have been responsible if it had not participated in the program.\\n\\nDouble check that your assignment exists in the hierarchy!\\nYour response should be in the following format:\\n[Topic Level] Topic Label: Assignment reasoning (Supporting quote)\\n\\nYour response:', 'You will receive a document and a topic hierarchy. Assign the document to the most relevant topics the hierarchy. Then, output the topic labels, assignment reasoning and supporting quotes from the document. DO NOT make up new topics or quotes.  \\n\\n[Topic Hierarchy]\\n[1] Forest Conservation: Regulates the management and protection of forest areas to maintain their natural state.\\n[1] Oil and Gas Exploration: Discusses the exploration, extraction, and management of oil and gas resources.\\n[1] Infrastructure Development: Mentions the planning, design, environmental review, or land acquisition activities for transportation systems. This topic is broad enough to accommodate future subtopics related to infrastructure development, such as roads, bridges, ports, and airports.</s>\\n\\n[Examples]\\nExample 1: Assign \"[1] Agriculture\" to the document\\nDocument: \\nSaving Essential American Sailors Act or SEAS Act - Amends the Moving Ahead for Progress in the 21st Century Act (MAP-21) to repeal the Act\\'s repeal of the agricultural export requirements that: (1) 25% of the gross tonnage of certain agricultural commodities or their products exported each fiscal year be transported on U.S. commercial vessels, and (2) the Secretary of Transportation (DOT) finance any increased ocean freight charges incurred in the transportation of such items.\\n\\nAssignment:\\n[1] Agriculture: Mentions changes in agricultural export requirements (\"...repeal of the agricultural export requirements that...\")\\n\\nExample 2: Assigned \"[1] Trade\" to the document\\nDocument: \\nAmends the Harmonized Tariff Schedule of the United States to suspend temporarily the duty on mixtures containing Fluopyram.\\n\\nAssignment: \\n[1] Trade: Mentions adjusting the taxation on mixtures containing Fluopyram (\"...suspend temporarily the duty on mixtures containing Fluopyram.\")\\n\\n[Instructions]\\n1. Topic labels must be present in the provided topic hierarchy. You MUST NOT make up new topics. \\n2. The quote must be taken from the document. You MUST NOT make up quotes. \\n\\n[Document]\\nLeading and Expediting Aerotropolis Development Act of 2011 - Directs the Secretary of Transportation to establish an aerotropolis grant program to assist in the development of aerotropolis transportation systems (i.e., planned and coordinated multimodal freight and passenger transportation networks that provide efficient, sustainable, and intermodal connectivity to a defined region of economic significance centered around a major airport). Authorizes the Secretary to make grants to eligible entities to assist in planning, design, environmental review, or land acquisition activities for one or more specified kinds of projects to benefit such systems.\\n\\nDouble check that your assignment exists in the hierarchy!\\nYour response should be in the following format:\\n[Topic Level] Topic Label: Assignment reasoning (Supporting quote)\\n\\nYour response:', 'You will receive a document and a topic hierarchy. Assign the document to the most relevant topics the hierarchy. Then, output the topic labels, assignment reasoning and supporting quotes from the document. DO NOT make up new topics or quotes.  \\n\\n[Topic Hierarchy]\\n[1] Forest Conservation: Regulates the management and protection of forest areas to maintain their natural state.\\n[1] Oil and Gas Exploration: Discusses the exploration, extraction, and management of oil and gas resources.\\n[1] Infrastructure Development: Mentions the planning, design, environmental review, or land acquisition activities for transportation systems. This topic is broad enough to accommodate future subtopics related to infrastructure development, such as roads, bridges, ports, and airports.</s>\\n\\n[Examples]\\nExample 1: Assign \"[1] Agriculture\" to the document\\nDocument: \\nSaving Essential American Sailors Act or SEAS Act - Amends the Moving Ahead for Progress in the 21st Century Act (MAP-21) to repeal the Act\\'s repeal of the agricultural export requirements that: (1) 25% of the gross tonnage of certain agricultural commodities or their products exported each fiscal year be transported on U.S. commercial vessels, and (2) the Secretary of Transportation (DOT) finance any increased ocean freight charges incurred in the transportation of such items.\\n\\nAssignment:\\n[1] Agriculture: Mentions changes in agricultural export requirements (\"...repeal of the agricultural export requirements that...\")\\n\\nExample 2: Assigned \"[1] Trade\" to the document\\nDocument: \\nAmends the Harmonized Tariff Schedule of the United States to suspend temporarily the duty on mixtures containing Fluopyram.\\n\\nAssignment: \\n[1] Trade: Mentions adjusting the taxation on mixtures containing Fluopyram (\"...suspend temporarily the duty on mixtures containing Fluopyram.\")\\n\\n[Instructions]\\n1. Topic labels must be present in the provided topic hierarchy. You MUST NOT make up new topics. \\n2. The quote must be taken from the document. You MUST NOT make up quotes. \\n\\n[Document]\\nPrevention of Unsafe Licensing Act - Amends the REAL ID Act of 2005 to prohibit a state from issuing a driver\\'s license or identification document to a person unless the state has complied with certain citizenship or lawful immigration status verification requirements.\\n\\nDouble check that your assignment exists in the hierarchy!\\nYour response should be in the following format:\\n[Topic Level] Topic Label: Assignment reasoning (Supporting quote)\\n\\nYour response:']\n",
      "batch_prompt system_message: True\n"
     ]
    },
    {
     "name": "stderr",
     "output_type": "stream",
     "text": [
      "\n"
     ]
    },
    {
     "ename": "TypeError",
     "evalue": "can only concatenate str (not \"bool\") to str",
     "output_type": "error",
     "traceback": [
      "\u001b[1;31m---------------------------------------------------------------------------\u001b[0m",
      "\u001b[1;31mTypeError\u001b[0m                                 Traceback (most recent call last)",
      "Cell \u001b[1;32mIn[7], line 2\u001b[0m\n\u001b[0;32m      1\u001b[0m \u001b[38;5;66;03m# Assignment\u001b[39;00m\n\u001b[1;32m----> 2\u001b[0m \u001b[43massign_topics\u001b[49m\u001b[43m(\u001b[49m\n\u001b[0;32m      3\u001b[0m \u001b[43m    \u001b[49m\u001b[43mMODEL_API\u001b[49m\u001b[43m,\u001b[49m\n\u001b[0;32m      4\u001b[0m \u001b[43m    \u001b[49m\u001b[43mMODEL_NAME\u001b[49m\u001b[43m,\u001b[49m\n\u001b[0;32m      5\u001b[0m \u001b[43m    \u001b[49m\u001b[43mconfig\u001b[49m\u001b[43m[\u001b[49m\u001b[38;5;124;43m\"\u001b[39;49m\u001b[38;5;124;43mdata_sample\u001b[39;49m\u001b[38;5;124;43m\"\u001b[39;49m\u001b[43m]\u001b[49m\u001b[43m,\u001b[49m\n\u001b[0;32m      6\u001b[0m \u001b[43m    \u001b[49m\u001b[43mconfig\u001b[49m\u001b[43m[\u001b[49m\u001b[38;5;124;43m\"\u001b[39;49m\u001b[38;5;124;43massignment\u001b[39;49m\u001b[38;5;124;43m\"\u001b[39;49m\u001b[43m]\u001b[49m\u001b[43m[\u001b[49m\u001b[38;5;124;43m\"\u001b[39;49m\u001b[38;5;124;43mprompt\u001b[39;49m\u001b[38;5;124;43m\"\u001b[39;49m\u001b[43m]\u001b[49m\u001b[43m,\u001b[49m\n\u001b[0;32m      7\u001b[0m \u001b[43m    \u001b[49m\u001b[43mconfig\u001b[49m\u001b[43m[\u001b[49m\u001b[38;5;124;43m\"\u001b[39;49m\u001b[38;5;124;43massignment\u001b[39;49m\u001b[38;5;124;43m\"\u001b[39;49m\u001b[43m]\u001b[49m\u001b[43m[\u001b[49m\u001b[38;5;124;43m\"\u001b[39;49m\u001b[38;5;124;43moutput\u001b[39;49m\u001b[38;5;124;43m\"\u001b[39;49m\u001b[43m]\u001b[49m\u001b[43m,\u001b[49m\n\u001b[0;32m      8\u001b[0m \u001b[43m    \u001b[49m\u001b[43mconfig\u001b[49m\u001b[43m[\u001b[49m\u001b[38;5;124;43m\"\u001b[39;49m\u001b[38;5;124;43mgeneration\u001b[39;49m\u001b[38;5;124;43m\"\u001b[39;49m\u001b[43m]\u001b[49m\u001b[43m[\u001b[49m\n\u001b[0;32m      9\u001b[0m \u001b[43m        \u001b[49m\u001b[38;5;124;43m\"\u001b[39;49m\u001b[38;5;124;43mtopic_output\u001b[39;49m\u001b[38;5;124;43m\"\u001b[39;49m\n\u001b[0;32m     10\u001b[0m \u001b[43m    \u001b[49m\u001b[43m]\u001b[49m\u001b[43m,\u001b[49m\u001b[43m  \u001b[49m\u001b[38;5;66;43;03m# TODO: change to generation_2 if you have subtopics, or config['refinement']['topic_output'] if you refined topics\u001b[39;49;00m\n\u001b[0;32m     11\u001b[0m \u001b[43m    \u001b[49m\u001b[43mverbose\u001b[49m\u001b[38;5;241;43m=\u001b[39;49m\u001b[43mconfig\u001b[49m\u001b[43m[\u001b[49m\u001b[38;5;124;43m\"\u001b[39;49m\u001b[38;5;124;43mverbose\u001b[39;49m\u001b[38;5;124;43m\"\u001b[39;49m\u001b[43m]\u001b[49m\u001b[43m,\u001b[49m\n\u001b[0;32m     12\u001b[0m \u001b[43m)\u001b[49m\n",
      "File \u001b[1;32mC:\\git\\topicGPT_burgersmoke_topicgpt_updated_with_vllm\\topicgpt_python\\assignment.py:230\u001b[0m, in \u001b[0;36massign_topics\u001b[1;34m(api, model, data, prompt_file, out_file, topic_file, verbose)\u001b[0m\n\u001b[0;32m    228\u001b[0m \u001b[38;5;66;03m# Prompting ----\u001b[39;00m\n\u001b[0;32m    229\u001b[0m \u001b[38;5;28;01mif\u001b[39;00m api \u001b[38;5;241m==\u001b[39m \u001b[38;5;124m\"\u001b[39m\u001b[38;5;124mvllm\u001b[39m\u001b[38;5;124m\"\u001b[39m \u001b[38;5;129;01mor\u001b[39;00m api \u001b[38;5;241m==\u001b[39m \u001b[38;5;124m'\u001b[39m\u001b[38;5;124mcustom_llm\u001b[39m\u001b[38;5;124m'\u001b[39m:\n\u001b[1;32m--> 230\u001b[0m     responses, prompted_docs \u001b[38;5;241m=\u001b[39m \u001b[43massignment_batch\u001b[49m\u001b[43m(\u001b[49m\n\u001b[0;32m    231\u001b[0m \u001b[43m        \u001b[49m\u001b[43mapi_client\u001b[49m\u001b[43m,\u001b[49m\n\u001b[0;32m    232\u001b[0m \u001b[43m        \u001b[49m\u001b[43mtopics_root\u001b[49m\u001b[43m,\u001b[49m\n\u001b[0;32m    233\u001b[0m \u001b[43m        \u001b[49m\u001b[43mdocs\u001b[49m\u001b[43m,\u001b[49m\n\u001b[0;32m    234\u001b[0m \u001b[43m        \u001b[49m\u001b[43massignment_prompt\u001b[49m\u001b[43m,\u001b[49m\n\u001b[0;32m    235\u001b[0m \u001b[43m        \u001b[49m\u001b[43mcontext_len\u001b[49m\u001b[43m,\u001b[49m\n\u001b[0;32m    236\u001b[0m \u001b[43m        \u001b[49m\u001b[43mtemperature\u001b[49m\u001b[43m,\u001b[49m\n\u001b[0;32m    237\u001b[0m \u001b[43m        \u001b[49m\u001b[43mtop_p\u001b[49m\u001b[43m,\u001b[49m\n\u001b[0;32m    238\u001b[0m \u001b[43m        \u001b[49m\u001b[43mmax_tokens\u001b[49m\u001b[43m,\u001b[49m\n\u001b[0;32m    239\u001b[0m \u001b[43m        \u001b[49m\u001b[43mverbose\u001b[49m\u001b[43m,\u001b[49m\n\u001b[0;32m    240\u001b[0m \u001b[43m    \u001b[49m\u001b[43m)\u001b[49m\n\u001b[0;32m    241\u001b[0m \u001b[38;5;28;01melse\u001b[39;00m:\n\u001b[0;32m    242\u001b[0m     responses, prompted_docs \u001b[38;5;241m=\u001b[39m assignment(\n\u001b[0;32m    243\u001b[0m         api_client,\n\u001b[0;32m    244\u001b[0m         topics_root,\n\u001b[1;32m   (...)\u001b[0m\n\u001b[0;32m    251\u001b[0m         verbose,\n\u001b[0;32m    252\u001b[0m     )\n",
      "File \u001b[1;32mC:\\git\\topicGPT_burgersmoke_topicgpt_updated_with_vllm\\topicgpt_python\\assignment.py:182\u001b[0m, in \u001b[0;36massignment_batch\u001b[1;34m(api_client, topics_root, docs, assignment_prompt, context_len, temperature, top_p, max_tokens, verbose)\u001b[0m\n\u001b[0;32m    179\u001b[0m     prompts\u001b[38;5;241m.\u001b[39mappend(prompt)\n\u001b[0;32m    180\u001b[0m     prompted_docs\u001b[38;5;241m.\u001b[39mappend(doc)\n\u001b[1;32m--> 182\u001b[0m responses \u001b[38;5;241m=\u001b[39m \u001b[43mapi_client\u001b[49m\u001b[38;5;241;43m.\u001b[39;49m\u001b[43mbatch_prompt\u001b[49m\u001b[43m(\u001b[49m\n\u001b[0;32m    183\u001b[0m \u001b[43m    \u001b[49m\u001b[43mprompts\u001b[49m\u001b[43m,\u001b[49m\u001b[43m \u001b[49m\u001b[43mmax_tokens\u001b[49m\u001b[43m,\u001b[49m\u001b[43m \u001b[49m\u001b[43mtemperature\u001b[49m\u001b[43m,\u001b[49m\u001b[43m \u001b[49m\u001b[43mtop_p\u001b[49m\u001b[43m,\u001b[49m\u001b[43m \u001b[49m\u001b[43mverbose\u001b[49m\n\u001b[0;32m    184\u001b[0m \u001b[43m\u001b[49m\u001b[43m)\u001b[49m\n\u001b[0;32m    185\u001b[0m \u001b[38;5;28;01mreturn\u001b[39;00m responses, prompted_docs\n",
      "File \u001b[1;32mC:\\git\\topicGPT_burgersmoke_topicgpt_updated_with_vllm\\topicgpt_python\\utils.py:450\u001b[0m, in \u001b[0;36mAPIClient.batch_prompt\u001b[1;34m(self, prompts, max_tokens, temperature, top_p, system_message)\u001b[0m\n\u001b[0;32m    440\u001b[0m \u001b[38;5;28mprint\u001b[39m(\u001b[38;5;124mf\u001b[39m\u001b[38;5;124m'\u001b[39m\u001b[38;5;124mbatch_prompt system_message: \u001b[39m\u001b[38;5;132;01m{\u001b[39;00msystem_message\u001b[38;5;132;01m}\u001b[39;00m\u001b[38;5;124m'\u001b[39m)\n\u001b[0;32m    442\u001b[0m prompt_formatted \u001b[38;5;241m=\u001b[39m [\n\u001b[0;32m    443\u001b[0m     [\n\u001b[0;32m    444\u001b[0m         {\u001b[38;5;124m\"\u001b[39m\u001b[38;5;124mrole\u001b[39m\u001b[38;5;124m\"\u001b[39m: \u001b[38;5;124m\"\u001b[39m\u001b[38;5;124muser\u001b[39m\u001b[38;5;124m\"\u001b[39m, \u001b[38;5;124m\"\u001b[39m\u001b[38;5;124mcontent\u001b[39m\u001b[38;5;124m\"\u001b[39m: prompt},\n\u001b[1;32m   (...)\u001b[0m\n\u001b[0;32m    447\u001b[0m     \u001b[38;5;28;01mfor\u001b[39;00m prompt \u001b[38;5;129;01min\u001b[39;00m prompts\n\u001b[0;32m    448\u001b[0m ]\n\u001b[1;32m--> 450\u001b[0m final_prompts \u001b[38;5;241m=\u001b[39m \u001b[43m[\u001b[49m\n\u001b[0;32m    451\u001b[0m \u001b[43m    \u001b[49m\u001b[38;5;28;43mself\u001b[39;49m\u001b[38;5;241;43m.\u001b[39;49m\u001b[43mtokenizer\u001b[49m\u001b[38;5;241;43m.\u001b[39;49m\u001b[43mapply_chat_template\u001b[49m\u001b[43m(\u001b[49m\n\u001b[0;32m    452\u001b[0m \u001b[43m        \u001b[49m\u001b[43mmessage\u001b[49m\u001b[43m,\u001b[49m\n\u001b[0;32m    453\u001b[0m \u001b[43m        \u001b[49m\u001b[38;5;66;43;03m#tokenize=False,\u001b[39;49;00m\n\u001b[0;32m    454\u001b[0m \u001b[43m        \u001b[49m\u001b[43madd_generation_prompt\u001b[49m\u001b[38;5;241;43m=\u001b[39;49m\u001b[38;5;28;43;01mTrue\u001b[39;49;00m\u001b[43m,\u001b[49m\n\u001b[0;32m    455\u001b[0m \u001b[43m        \u001b[49m\u001b[43mreturn_tensors\u001b[49m\u001b[38;5;241;43m=\u001b[39;49m\u001b[38;5;124;43m\"\u001b[39;49m\u001b[38;5;124;43mpt\u001b[39;49m\u001b[38;5;124;43m\"\u001b[39;49m\n\u001b[0;32m    456\u001b[0m \u001b[43m    \u001b[49m\u001b[43m)\u001b[49m\n\u001b[0;32m    457\u001b[0m \u001b[43m    \u001b[49m\u001b[38;5;28;43;01mfor\u001b[39;49;00m\u001b[43m \u001b[49m\u001b[43mmessage\u001b[49m\u001b[43m \u001b[49m\u001b[38;5;129;43;01min\u001b[39;49;00m\u001b[43m \u001b[49m\u001b[43mprompt_formatted\u001b[49m\n\u001b[0;32m    458\u001b[0m \u001b[43m\u001b[49m\u001b[43m]\u001b[49m\n\u001b[0;32m    460\u001b[0m custom_llm_output \u001b[38;5;241m=\u001b[39m \u001b[38;5;28mself\u001b[39m\u001b[38;5;241m.\u001b[39mllm\u001b[38;5;241m.\u001b[39mgenerate(final_prompts,\n\u001b[0;32m    461\u001b[0m                                       \u001b[38;5;66;03m# do_sample=True,\u001b[39;00m\n\u001b[0;32m    462\u001b[0m                                       temperature\u001b[38;5;241m=\u001b[39mtemperature,\n\u001b[1;32m   (...)\u001b[0m\n\u001b[0;32m    465\u001b[0m                                       eos_token_id\u001b[38;5;241m=\u001b[39mterminators,\n\u001b[0;32m    466\u001b[0m                                       )\n\u001b[0;32m    468\u001b[0m \u001b[38;5;28;01mreturn\u001b[39;00m [output\u001b[38;5;241m.\u001b[39moutputs[\u001b[38;5;241m0\u001b[39m]\u001b[38;5;241m.\u001b[39mtext \u001b[38;5;28;01mfor\u001b[39;00m output \u001b[38;5;129;01min\u001b[39;00m custom_llm_output]\n",
      "File \u001b[1;32mC:\\git\\topicGPT_burgersmoke_topicgpt_updated_with_vllm\\topicgpt_python\\utils.py:451\u001b[0m, in \u001b[0;36m<listcomp>\u001b[1;34m(.0)\u001b[0m\n\u001b[0;32m    440\u001b[0m \u001b[38;5;28mprint\u001b[39m(\u001b[38;5;124mf\u001b[39m\u001b[38;5;124m'\u001b[39m\u001b[38;5;124mbatch_prompt system_message: \u001b[39m\u001b[38;5;132;01m{\u001b[39;00msystem_message\u001b[38;5;132;01m}\u001b[39;00m\u001b[38;5;124m'\u001b[39m)\n\u001b[0;32m    442\u001b[0m prompt_formatted \u001b[38;5;241m=\u001b[39m [\n\u001b[0;32m    443\u001b[0m     [\n\u001b[0;32m    444\u001b[0m         {\u001b[38;5;124m\"\u001b[39m\u001b[38;5;124mrole\u001b[39m\u001b[38;5;124m\"\u001b[39m: \u001b[38;5;124m\"\u001b[39m\u001b[38;5;124muser\u001b[39m\u001b[38;5;124m\"\u001b[39m, \u001b[38;5;124m\"\u001b[39m\u001b[38;5;124mcontent\u001b[39m\u001b[38;5;124m\"\u001b[39m: prompt},\n\u001b[1;32m   (...)\u001b[0m\n\u001b[0;32m    447\u001b[0m     \u001b[38;5;28;01mfor\u001b[39;00m prompt \u001b[38;5;129;01min\u001b[39;00m prompts\n\u001b[0;32m    448\u001b[0m ]\n\u001b[0;32m    450\u001b[0m final_prompts \u001b[38;5;241m=\u001b[39m [\n\u001b[1;32m--> 451\u001b[0m     \u001b[38;5;28;43mself\u001b[39;49m\u001b[38;5;241;43m.\u001b[39;49m\u001b[43mtokenizer\u001b[49m\u001b[38;5;241;43m.\u001b[39;49m\u001b[43mapply_chat_template\u001b[49m\u001b[43m(\u001b[49m\n\u001b[0;32m    452\u001b[0m \u001b[43m        \u001b[49m\u001b[43mmessage\u001b[49m\u001b[43m,\u001b[49m\n\u001b[0;32m    453\u001b[0m \u001b[43m        \u001b[49m\u001b[38;5;66;43;03m#tokenize=False,\u001b[39;49;00m\n\u001b[0;32m    454\u001b[0m \u001b[43m        \u001b[49m\u001b[43madd_generation_prompt\u001b[49m\u001b[38;5;241;43m=\u001b[39;49m\u001b[38;5;28;43;01mTrue\u001b[39;49;00m\u001b[43m,\u001b[49m\n\u001b[0;32m    455\u001b[0m \u001b[43m        \u001b[49m\u001b[43mreturn_tensors\u001b[49m\u001b[38;5;241;43m=\u001b[39;49m\u001b[38;5;124;43m\"\u001b[39;49m\u001b[38;5;124;43mpt\u001b[39;49m\u001b[38;5;124;43m\"\u001b[39;49m\n\u001b[0;32m    456\u001b[0m \u001b[43m    \u001b[49m\u001b[43m)\u001b[49m\n\u001b[0;32m    457\u001b[0m     \u001b[38;5;28;01mfor\u001b[39;00m message \u001b[38;5;129;01min\u001b[39;00m prompt_formatted\n\u001b[0;32m    458\u001b[0m ]\n\u001b[0;32m    460\u001b[0m custom_llm_output \u001b[38;5;241m=\u001b[39m \u001b[38;5;28mself\u001b[39m\u001b[38;5;241m.\u001b[39mllm\u001b[38;5;241m.\u001b[39mgenerate(final_prompts,\n\u001b[0;32m    461\u001b[0m                                       \u001b[38;5;66;03m# do_sample=True,\u001b[39;00m\n\u001b[0;32m    462\u001b[0m                                       temperature\u001b[38;5;241m=\u001b[39mtemperature,\n\u001b[1;32m   (...)\u001b[0m\n\u001b[0;32m    465\u001b[0m                                       eos_token_id\u001b[38;5;241m=\u001b[39mterminators,\n\u001b[0;32m    466\u001b[0m                                       )\n\u001b[0;32m    468\u001b[0m \u001b[38;5;28;01mreturn\u001b[39;00m [output\u001b[38;5;241m.\u001b[39moutputs[\u001b[38;5;241m0\u001b[39m]\u001b[38;5;241m.\u001b[39mtext \u001b[38;5;28;01mfor\u001b[39;00m output \u001b[38;5;129;01min\u001b[39;00m custom_llm_output]\n",
      "File \u001b[1;32m~\\.conda\\envs\\topic_gpt_gpu_updated\\Lib\\site-packages\\transformers\\tokenization_utils_base.py:1687\u001b[0m, in \u001b[0;36mPreTrainedTokenizerBase.apply_chat_template\u001b[1;34m(self, conversation, tools, documents, chat_template, add_generation_prompt, continue_final_message, tokenize, padding, truncation, max_length, return_tensors, return_dict, return_assistant_tokens_mask, tokenizer_kwargs, **kwargs)\u001b[0m\n\u001b[0;32m   1685\u001b[0m     all_generation_indices\u001b[38;5;241m.\u001b[39mappend(generation_indices)\n\u001b[0;32m   1686\u001b[0m \u001b[38;5;28;01melse\u001b[39;00m:\n\u001b[1;32m-> 1687\u001b[0m     rendered_chat \u001b[38;5;241m=\u001b[39m \u001b[43mcompiled_template\u001b[49m\u001b[38;5;241;43m.\u001b[39;49m\u001b[43mrender\u001b[49m\u001b[43m(\u001b[49m\n\u001b[0;32m   1688\u001b[0m \u001b[43m        \u001b[49m\u001b[43mmessages\u001b[49m\u001b[38;5;241;43m=\u001b[39;49m\u001b[43mchat\u001b[49m\u001b[43m,\u001b[49m\n\u001b[0;32m   1689\u001b[0m \u001b[43m        \u001b[49m\u001b[43mtools\u001b[49m\u001b[38;5;241;43m=\u001b[39;49m\u001b[43mtool_schemas\u001b[49m\u001b[43m,\u001b[49m\n\u001b[0;32m   1690\u001b[0m \u001b[43m        \u001b[49m\u001b[43mdocuments\u001b[49m\u001b[38;5;241;43m=\u001b[39;49m\u001b[43mdocuments\u001b[49m\u001b[43m,\u001b[49m\n\u001b[0;32m   1691\u001b[0m \u001b[43m        \u001b[49m\u001b[43madd_generation_prompt\u001b[49m\u001b[38;5;241;43m=\u001b[39;49m\u001b[43madd_generation_prompt\u001b[49m\u001b[43m,\u001b[49m\n\u001b[0;32m   1692\u001b[0m \u001b[43m        \u001b[49m\u001b[38;5;241;43m*\u001b[39;49m\u001b[38;5;241;43m*\u001b[39;49m\u001b[43mtemplate_kwargs\u001b[49m\u001b[43m,\u001b[49m\n\u001b[0;32m   1693\u001b[0m \u001b[43m    \u001b[49m\u001b[43m)\u001b[49m\n\u001b[0;32m   1694\u001b[0m \u001b[38;5;28;01mif\u001b[39;00m continue_final_message:\n\u001b[0;32m   1695\u001b[0m     final_message \u001b[38;5;241m=\u001b[39m chat[\u001b[38;5;241m-\u001b[39m\u001b[38;5;241m1\u001b[39m][\u001b[38;5;124m\"\u001b[39m\u001b[38;5;124mcontent\u001b[39m\u001b[38;5;124m\"\u001b[39m]\n",
      "File \u001b[1;32m~\\.conda\\envs\\topic_gpt_gpu_updated\\Lib\\site-packages\\jinja2\\environment.py:1295\u001b[0m, in \u001b[0;36mTemplate.render\u001b[1;34m(self, *args, **kwargs)\u001b[0m\n\u001b[0;32m   1293\u001b[0m     \u001b[38;5;28;01mreturn\u001b[39;00m \u001b[38;5;28mself\u001b[39m\u001b[38;5;241m.\u001b[39menvironment\u001b[38;5;241m.\u001b[39mconcat(\u001b[38;5;28mself\u001b[39m\u001b[38;5;241m.\u001b[39mroot_render_func(ctx))  \u001b[38;5;66;03m# type: ignore\u001b[39;00m\n\u001b[0;32m   1294\u001b[0m \u001b[38;5;28;01mexcept\u001b[39;00m \u001b[38;5;167;01mException\u001b[39;00m:\n\u001b[1;32m-> 1295\u001b[0m     \u001b[38;5;28;43mself\u001b[39;49m\u001b[38;5;241;43m.\u001b[39;49m\u001b[43menvironment\u001b[49m\u001b[38;5;241;43m.\u001b[39;49m\u001b[43mhandle_exception\u001b[49m\u001b[43m(\u001b[49m\u001b[43m)\u001b[49m\n",
      "File \u001b[1;32m~\\.conda\\envs\\topic_gpt_gpu_updated\\Lib\\site-packages\\jinja2\\environment.py:942\u001b[0m, in \u001b[0;36mEnvironment.handle_exception\u001b[1;34m(self, source)\u001b[0m\n\u001b[0;32m    937\u001b[0m \u001b[38;5;250m\u001b[39m\u001b[38;5;124;03m\"\"\"Exception handling helper.  This is used internally to either raise\u001b[39;00m\n\u001b[0;32m    938\u001b[0m \u001b[38;5;124;03mrewritten exceptions or return a rendered traceback for the template.\u001b[39;00m\n\u001b[0;32m    939\u001b[0m \u001b[38;5;124;03m\"\"\"\u001b[39;00m\n\u001b[0;32m    940\u001b[0m \u001b[38;5;28;01mfrom\u001b[39;00m\u001b[38;5;250m \u001b[39m\u001b[38;5;21;01m.\u001b[39;00m\u001b[38;5;21;01mdebug\u001b[39;00m\u001b[38;5;250m \u001b[39m\u001b[38;5;28;01mimport\u001b[39;00m rewrite_traceback_stack\n\u001b[1;32m--> 942\u001b[0m \u001b[38;5;28;01mraise\u001b[39;00m rewrite_traceback_stack(source\u001b[38;5;241m=\u001b[39msource)\n",
      "File \u001b[1;32m<template>:1\u001b[0m, in \u001b[0;36mtop-level template code\u001b[1;34m()\u001b[0m\n",
      "\u001b[1;31mTypeError\u001b[0m: can only concatenate str (not \"bool\") to str"
     ]
    }
   ],
   "source": [
    "# Assignment\n",
    "assign_topics(\n",
    "    MODEL_API,\n",
    "    MODEL_NAME,\n",
    "    config[\"data_sample\"],\n",
    "    config[\"assignment\"][\"prompt\"],\n",
    "    config[\"assignment\"][\"output\"],\n",
    "    config[\"generation\"][\n",
    "        \"topic_output\"\n",
    "    ],  # TODO: change to generation_2 if you have subtopics, or config['refinement']['topic_output'] if you refined topics\n",
    "    verbose=config[\"verbose\"],\n",
    ")"
   ]
  },
  {
   "cell_type": "code",
   "execution_count": null,
   "metadata": {},
   "outputs": [],
   "source": [
    "# Correction\n",
    "correct_topics(\n",
    "    MODEL_API,\n",
    "    MODEL_NAME,\n",
    "    config[\"assignment\"][\"output\"],\n",
    "    config[\"correction\"][\"prompt\"],\n",
    "    config[\"generation\"][\n",
    "        \"topic_output\"\n",
    "    ],  # TODO: change to generation_2 if you have subtopics, or config['refinement']['topic_output'] if you refined topics\n",
    "    config[\"correction\"][\"output\"],\n",
    "    verbose=config[\"verbose\"],\n",
    ")"
   ]
  }
 ],
 "metadata": {
  "kernelspec": {
   "display_name": "Python [conda env:.conda-topic_gpt_gpu_updated] *",
   "language": "python",
   "name": "conda-env-.conda-topic_gpt_gpu_updated-py"
  },
  "language_info": {
   "codemirror_mode": {
    "name": "ipython",
    "version": 3
   },
   "file_extension": ".py",
   "mimetype": "text/x-python",
   "name": "python",
   "nbconvert_exporter": "python",
   "pygments_lexer": "ipython3",
   "version": "3.11.11"
  }
 },
 "nbformat": 4,
 "nbformat_minor": 4
}
